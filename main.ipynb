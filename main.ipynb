{
  "nbformat": 4,
  "nbformat_minor": 0,
  "metadata": {
    "kernelspec": {
      "display_name": "Python 3",
      "language": "python",
      "name": "python3"
    },
    "language_info": {
      "codemirror_mode": {
        "name": "ipython",
        "version": 3
      },
      "file_extension": ".py",
      "mimetype": "text/x-python",
      "name": "python",
      "nbconvert_exporter": "python",
      "pygments_lexer": "ipython3",
      "version": "3.6.6"
    },
    "colab": {
      "name": "main.ipynb",
      "provenance": [],
      "collapsed_sections": [],
      "include_colab_link": true
    }
  },
  "cells": [
    {
      "cell_type": "markdown",
      "metadata": {
        "id": "view-in-github",
        "colab_type": "text"
      },
      "source": [
        "<a href=\"https://colab.research.google.com/github/juanmanuelvillacis/lab-correlation-tests-with-scipy/blob/master/main.ipynb\" target=\"_parent\"><img src=\"https://colab.research.google.com/assets/colab-badge.svg\" alt=\"Open In Colab\"/></a>"
      ]
    },
    {
      "cell_type": "markdown",
      "metadata": {
        "id": "lp-95GtcnLcE"
      },
      "source": [
        "# Before your start:\n",
        "- Read the README.md file\n",
        "- Comment as much as you can and use the resources (README.md file)\n",
        "- Happy learning!"
      ]
    },
    {
      "cell_type": "code",
      "metadata": {
        "id": "LKwfQ-PWnLcN"
      },
      "source": [
        "%matplotlib inline\n",
        "# import numpy and pandas\n",
        "import numpy as np\n",
        "import pandas as pd\n",
        "from scipy.stats import linregress\n",
        "import pylab as plt \n",
        "\n"
      ],
      "execution_count": 41,
      "outputs": []
    },
    {
      "cell_type": "markdown",
      "metadata": {
        "id": "JdBmjP5HnLcT"
      },
      "source": [
        "# Challenge 1 - Analysis of Variance\n",
        "\n",
        "In this part of the lesson, we will perform an analysis of variance to determine whether the factors in our model create a significant difference in the group means. We will be examining a dataset of FIFA players. We'll start by loading the data using the code in the cell below."
      ]
    },
    {
      "cell_type": "code",
      "metadata": {
        "id": "Xk4o0nYwnLcV"
      },
      "source": [
        "# Run this code:\n",
        "\n",
        "fifa = pd.read_csv('/content/drive/MyDrive/Iron Hack/LABs/csv_docs/fifa.csv')\n"
      ],
      "execution_count": 42,
      "outputs": []
    },
    {
      "cell_type": "markdown",
      "metadata": {
        "id": "Sfa8XvWHnLcW"
      },
      "source": [
        "Let's examine the dataset by looking at the `head`."
      ]
    },
    {
      "cell_type": "code",
      "metadata": {
        "colab": {
          "base_uri": "https://localhost:8080/"
        },
        "id": "Zc-MyeRwnLcX",
        "outputId": "567b4c55-d77e-4929-a498-d3f0e5d7b11f"
      },
      "source": [
        "# Your code here:\n",
        "fifa[fifa['Value'].str.contains('K')]['Value']\n"
      ],
      "execution_count": 58,
      "outputs": [
        {
          "output_type": "execute_result",
          "data": {
            "text/plain": [
              "926      €600K\n",
              "1294     €525K\n",
              "1625     €900K\n",
              "1668     €900K\n",
              "1720     €450K\n",
              "         ...  \n",
              "18202     €60K\n",
              "18203     €60K\n",
              "18204     €60K\n",
              "18205     €60K\n",
              "18206     €60K\n",
              "Name: Value, Length: 11060, dtype: object"
            ]
          },
          "metadata": {},
          "execution_count": 58
        }
      ]
    },
    {
      "cell_type": "markdown",
      "metadata": {
        "id": "xSYWJmE7nLcY"
      },
      "source": [
        "Player's values are expressed in millions of euros. We would like this column to be numeric. Therefore, let's create a numeric value column. Do this by stripping all non-numeric characters from each cell. Assign this new data to `ValueNumeric`. There is no need to multiply the value to be expressed in millions. "
      ]
    },
    {
      "cell_type": "code",
      "metadata": {
        "colab": {
          "base_uri": "https://localhost:8080/"
        },
        "id": "rxc-_MODnLcZ",
        "outputId": "40340839-7f74-401a-aa5a-8de499dbbed2"
      },
      "source": [
        "# Your code here:\n",
        "s = []\n",
        "#corregir la conversion de K y M\n",
        "for a in fifa['Value']:\n",
        "  if 'K' in a:\n",
        "    a =a.replace('€','').replace('K','')    \n",
        "    a = float(a)\n",
        "    a = a/1000\n",
        "    s.append(a)\n",
        "  elif 'M' in a:\n",
        "    a =a.replace('€','').replace('M','')    \n",
        "    a = float(a)\n",
        "    s.append(a)\n",
        "  else:\n",
        "    a =a.replace('€','')   \n",
        "    a = float(a)\n",
        "    s.append(a) \n",
        "#l = [a.translate(str.maketrans({'€':'','M':'','K':''})) for a in fifa['Value']]\n",
        "fifa['ValueNumeric']= s\n",
        "fifa['ValueNumeric'].dtype"
      ],
      "execution_count": 46,
      "outputs": [
        {
          "output_type": "execute_result",
          "data": {
            "text/plain": [
              "dtype('float64')"
            ]
          },
          "metadata": {},
          "execution_count": 46
        }
      ]
    },
    {
      "cell_type": "markdown",
      "metadata": {
        "id": "YQibGHAnnLca"
      },
      "source": [
        "#### We'd like to determine whether a player's preffered foot and position have an impact on their value. \n",
        "\n",
        "Using the `statsmodels` library, we are able to produce an ANOVA table without munging our data. Create an ANOVA table with value as a function of position and preferred foot. Recall that pivoting is performed by the `C` function.\n",
        "\n",
        "Hint: For columns that have a space in their name, it is best to refer to the column using the dataframe (For example: for column `A`, we will use `df['A']`)."
      ]
    },
    {
      "cell_type": "code",
      "metadata": {
        "colab": {
          "base_uri": "https://localhost:8080/",
          "height": 143
        },
        "id": "DhdF3ww5nLcc",
        "outputId": "d4d7077f-a42e-4120-a1cc-397531f7e246"
      },
      "source": [
        "# Your code here:\n",
        "from statsmodels.formula.api import ols\n",
        "import statsmodels.api as sm\n",
        "\n",
        "formula = 'ValueNumeric ~ C(Position) + C(fifa[\"Preferred Foot\"])'\n",
        "\n",
        "modelo = ols(formula=formula, data=fifa).fit()\n",
        "\n",
        "anova_table = sm.stats.anova_lm(modelo, typ=1)\n",
        "\n",
        "anova_table"
      ],
      "execution_count": 47,
      "outputs": [
        {
          "output_type": "execute_result",
          "data": {
            "text/html": [
              "<div>\n",
              "<style scoped>\n",
              "    .dataframe tbody tr th:only-of-type {\n",
              "        vertical-align: middle;\n",
              "    }\n",
              "\n",
              "    .dataframe tbody tr th {\n",
              "        vertical-align: top;\n",
              "    }\n",
              "\n",
              "    .dataframe thead th {\n",
              "        text-align: right;\n",
              "    }\n",
              "</style>\n",
              "<table border=\"1\" class=\"dataframe\">\n",
              "  <thead>\n",
              "    <tr style=\"text-align: right;\">\n",
              "      <th></th>\n",
              "      <th>df</th>\n",
              "      <th>sum_sq</th>\n",
              "      <th>mean_sq</th>\n",
              "      <th>F</th>\n",
              "      <th>PR(&gt;F)</th>\n",
              "    </tr>\n",
              "  </thead>\n",
              "  <tbody>\n",
              "    <tr>\n",
              "      <th>C(Position)</th>\n",
              "      <td>26.0</td>\n",
              "      <td>16496.092002</td>\n",
              "      <td>634.465077</td>\n",
              "      <td>20.791849</td>\n",
              "      <td>5.031960e-96</td>\n",
              "    </tr>\n",
              "    <tr>\n",
              "      <th>C(fifa[\"Preferred Foot\"])</th>\n",
              "      <td>1.0</td>\n",
              "      <td>234.162243</td>\n",
              "      <td>234.162243</td>\n",
              "      <td>7.673655</td>\n",
              "      <td>5.608990e-03</td>\n",
              "    </tr>\n",
              "    <tr>\n",
              "      <th>Residual</th>\n",
              "      <td>18119.0</td>\n",
              "      <td>552902.860021</td>\n",
              "      <td>30.515087</td>\n",
              "      <td>NaN</td>\n",
              "      <td>NaN</td>\n",
              "    </tr>\n",
              "  </tbody>\n",
              "</table>\n",
              "</div>"
            ],
            "text/plain": [
              "                                df         sum_sq  ...          F        PR(>F)\n",
              "C(Position)                   26.0   16496.092002  ...  20.791849  5.031960e-96\n",
              "C(fifa[\"Preferred Foot\"])      1.0     234.162243  ...   7.673655  5.608990e-03\n",
              "Residual                   18119.0  552902.860021  ...        NaN           NaN\n",
              "\n",
              "[3 rows x 5 columns]"
            ]
          },
          "metadata": {},
          "execution_count": 47
        }
      ]
    },
    {
      "cell_type": "markdown",
      "metadata": {
        "id": "xzQ8kMQmnLcd"
      },
      "source": [
        "What is your conclusion from this ANOVA?"
      ]
    },
    {
      "cell_type": "code",
      "metadata": {
        "id": "d08fLBWPnLcd",
        "colab": {
          "base_uri": "https://localhost:8080/",
          "height": 53
        },
        "outputId": "5471dbd7-f2c9-4459-bb9a-94972629ffb8"
      },
      "source": [
        "# Your conclusions here:\n",
        "'''\n",
        "From the P value we can conclude that there is a week relation between the positoin and the value.\n",
        "Nevertheless, the p value of Preferred Foot and Vale nuemric is higher than 0.05 meaning that the relation between the two values is strong and we conserve the nule hypothesis\n",
        "'''\n"
      ],
      "execution_count": 48,
      "outputs": [
        {
          "output_type": "execute_result",
          "data": {
            "application/vnd.google.colaboratory.intrinsic+json": {
              "type": "string"
            },
            "text/plain": [
              "'\\nFrom the P value we can conclude that there is a week relation between the positoin and the value.\\nNevertheless, the p value of Preferred Foot and Vale nuemric is higher than 0.05 meaning that the relation between the two values is strong and we conserve the nule hypothesis\\n'"
            ]
          },
          "metadata": {},
          "execution_count": 48
        }
      ]
    },
    {
      "cell_type": "markdown",
      "metadata": {
        "id": "bz3lzIbOnLce"
      },
      "source": [
        "After looking at a model of both preffered foot and position, we decide to create an ANOVA table for nationality. Create an ANOVA table for numeric value as a function of nationality."
      ]
    },
    {
      "cell_type": "code",
      "metadata": {
        "id": "IuuK7uCBnLcf",
        "colab": {
          "base_uri": "https://localhost:8080/",
          "height": 112
        },
        "outputId": "c565a54c-5842-4492-d656-d5aa65a11d13"
      },
      "source": [
        "# Your code here:\n",
        "\n",
        "\n",
        "formula = 'ValueNumeric ~ C(Nationality)'\n",
        "\n",
        "modelo = ols(formula=formula, data=fifa).fit()\n",
        "\n",
        "anova_table = sm.stats.anova_lm(modelo, typ=1)\n",
        "\n",
        "anova_table"
      ],
      "execution_count": 49,
      "outputs": [
        {
          "output_type": "execute_result",
          "data": {
            "text/html": [
              "<div>\n",
              "<style scoped>\n",
              "    .dataframe tbody tr th:only-of-type {\n",
              "        vertical-align: middle;\n",
              "    }\n",
              "\n",
              "    .dataframe tbody tr th {\n",
              "        vertical-align: top;\n",
              "    }\n",
              "\n",
              "    .dataframe thead th {\n",
              "        text-align: right;\n",
              "    }\n",
              "</style>\n",
              "<table border=\"1\" class=\"dataframe\">\n",
              "  <thead>\n",
              "    <tr style=\"text-align: right;\">\n",
              "      <th></th>\n",
              "      <th>df</th>\n",
              "      <th>sum_sq</th>\n",
              "      <th>mean_sq</th>\n",
              "      <th>F</th>\n",
              "      <th>PR(&gt;F)</th>\n",
              "    </tr>\n",
              "  </thead>\n",
              "  <tbody>\n",
              "    <tr>\n",
              "      <th>C(Nationality)</th>\n",
              "      <td>163.0</td>\n",
              "      <td>32812.244217</td>\n",
              "      <td>201.302112</td>\n",
              "      <td>6.762478</td>\n",
              "      <td>4.840477e-134</td>\n",
              "    </tr>\n",
              "    <tr>\n",
              "      <th>Residual</th>\n",
              "      <td>18043.0</td>\n",
              "      <td>537095.118316</td>\n",
              "      <td>29.767506</td>\n",
              "      <td>NaN</td>\n",
              "      <td>NaN</td>\n",
              "    </tr>\n",
              "  </tbody>\n",
              "</table>\n",
              "</div>"
            ],
            "text/plain": [
              "                     df         sum_sq     mean_sq         F         PR(>F)\n",
              "C(Nationality)    163.0   32812.244217  201.302112  6.762478  4.840477e-134\n",
              "Residual        18043.0  537095.118316   29.767506       NaN            NaN"
            ]
          },
          "metadata": {},
          "execution_count": 49
        }
      ]
    },
    {
      "cell_type": "markdown",
      "metadata": {
        "id": "C-d5ORmpnLcg"
      },
      "source": [
        "What is your conclusion from this ANOVA?"
      ]
    },
    {
      "cell_type": "code",
      "metadata": {
        "id": "Z_ZhCRw7OqeZ",
        "colab": {
          "base_uri": "https://localhost:8080/",
          "height": 35
        },
        "outputId": "7bae3ae4-f16f-4947-e3c3-748ae2ce7267"
      },
      "source": [
        "'''\n",
        "The p value is less than the range of confidence interval of 0.05 then the nule hypothesis is rejected\n",
        "'''"
      ],
      "execution_count": 50,
      "outputs": [
        {
          "output_type": "execute_result",
          "data": {
            "application/vnd.google.colaboratory.intrinsic+json": {
              "type": "string"
            },
            "text/plain": [
              "'\\nThe p value is less than the range of confidence interval of 0.05 then the nule hypothesis is rejected\\n'"
            ]
          },
          "metadata": {},
          "execution_count": 50
        }
      ]
    },
    {
      "cell_type": "markdown",
      "metadata": {
        "id": "IzZ1LQ4EnLci"
      },
      "source": [
        "# Challenge 2 - Linear Regression\n",
        "\n",
        "Our goal with using linear regression is to create a mathematical model that will enable us to predict the outcome of one variable using one or more additional independent variables.\n",
        "\n",
        "We'll start by ensuring there are no missing values. Examine all variables for all missing values. If there are missing values in a row, remove the entire row."
      ]
    },
    {
      "cell_type": "code",
      "metadata": {
        "id": "e5tncfcUnLcj"
      },
      "source": [
        "# Your code here:\n",
        "\n",
        "delete = fifa[fifa['SprintSpeed'].isnull()==True].index\n",
        "\n",
        "fifa.drop(delete,axis=0,inplace=True)"
      ],
      "execution_count": 51,
      "outputs": []
    },
    {
      "cell_type": "markdown",
      "metadata": {
        "id": "INvNp3xgnLck"
      },
      "source": [
        "Using the FIFA dataset, in the cell below, create a linear model predicting value using stamina and sprint speed. create the model using `statsmodels`. Print the model summary.\n",
        "\n",
        "Hint: remember to add an intercept to the model using the `add_constant` function."
      ]
    },
    {
      "cell_type": "code",
      "metadata": {
        "id": "CRya1bChnLcl",
        "colab": {
          "base_uri": "https://localhost:8080/"
        },
        "outputId": "104e14d0-d2c1-444c-985f-301c354f4407"
      },
      "source": [
        "# Your code here:\n",
        "x = sm.add_constant(\n",
        "    fifa[[\n",
        "          'Stamina',\n",
        "          'SprintSpeed'\n",
        "    ]]\n",
        ")\n",
        "y = fifa['ValueNumeric']\n",
        "modelo = sm.OLS(y, x).fit()\n",
        "\n",
        "print(modelo.summary())"
      ],
      "execution_count": 52,
      "outputs": [
        {
          "output_type": "stream",
          "name": "stdout",
          "text": [
            "                            OLS Regression Results                            \n",
            "==============================================================================\n",
            "Dep. Variable:           ValueNumeric   R-squared:                       0.047\n",
            "Model:                            OLS   Adj. R-squared:                  0.047\n",
            "Method:                 Least Squares   F-statistic:                     450.5\n",
            "Date:                Mon, 04 Oct 2021   Prob (F-statistic):          1.17e-191\n",
            "Time:                        05:14:27   Log-Likelihood:                -56614.\n",
            "No. Observations:               18159   AIC:                         1.132e+05\n",
            "Df Residuals:                   18156   BIC:                         1.133e+05\n",
            "Df Model:                           2                                         \n",
            "Covariance Type:            nonrobust                                         \n",
            "===============================================================================\n",
            "                  coef    std err          t      P>|t|      [0.025      0.975]\n",
            "-------------------------------------------------------------------------------\n",
            "const          -3.0254      0.195    -15.543      0.000      -3.407      -2.644\n",
            "Stamina         0.0593      0.003     18.240      0.000       0.053       0.066\n",
            "SprintSpeed     0.0261      0.004      7.397      0.000       0.019       0.033\n",
            "==============================================================================\n",
            "Omnibus:                    23217.938   Durbin-Watson:                   0.193\n",
            "Prob(Omnibus):                  0.000   Jarque-Bera (JB):          4804585.736\n",
            "Skew:                           7.076   Prob(JB):                         0.00\n",
            "Kurtosis:                      81.420   Cond. No.                         444.\n",
            "==============================================================================\n",
            "\n",
            "Warnings:\n",
            "[1] Standard Errors assume that the covariance matrix of the errors is correctly specified.\n"
          ]
        }
      ]
    },
    {
      "cell_type": "markdown",
      "metadata": {
        "id": "AbD5gaZ7nLcm"
      },
      "source": [
        "Report your findings from the model summary. In particular, report about the model as a whole using the F-test and how much variation is predicted by the model using the r squared."
      ]
    },
    {
      "cell_type": "code",
      "metadata": {
        "id": "foSc5LegnLcn",
        "colab": {
          "base_uri": "https://localhost:8080/",
          "height": 35
        },
        "outputId": "f8284c3d-5aed-404f-cd89-da59775f49b6"
      },
      "source": [
        "# Your conclusions here:\n",
        "'''\n",
        "By the r2 value being close to 0 the variation is low and the p estatistic value is below the confidence interval of 0.05\n",
        "'''\n"
      ],
      "execution_count": 53,
      "outputs": [
        {
          "output_type": "execute_result",
          "data": {
            "application/vnd.google.colaboratory.intrinsic+json": {
              "type": "string"
            },
            "text/plain": [
              "'\\nBy the r2 value being close to 0 the variation is low and the p estatistic value is below the confidence interval of 0.05\\n'"
            ]
          },
          "metadata": {},
          "execution_count": 53
        }
      ]
    },
    {
      "cell_type": "markdown",
      "metadata": {
        "id": "kiBKD3ITnLcq"
      },
      "source": [
        "Next, create a second regression model predicting value using potential. Create the model using `statsmodels` and print the model summary. Remember to add a constant term."
      ]
    },
    {
      "cell_type": "code",
      "metadata": {
        "id": "uU5dBRYSnLcq",
        "colab": {
          "base_uri": "https://localhost:8080/",
          "height": 452
        },
        "outputId": "ec154444-7e11-4c50-c7d5-130b3d03bcc0"
      },
      "source": [
        "# Your code here:\n",
        "x = sm.add_constant(fifa['Potential'])\n",
        "\n",
        "y = fifa['ValueNumeric']\n",
        "\n",
        "modelo = sm.OLS(y, x).fit()\n",
        "modelo.summary()"
      ],
      "execution_count": 54,
      "outputs": [
        {
          "output_type": "execute_result",
          "data": {
            "text/html": [
              "<table class=\"simpletable\">\n",
              "<caption>OLS Regression Results</caption>\n",
              "<tr>\n",
              "  <th>Dep. Variable:</th>      <td>ValueNumeric</td>   <th>  R-squared:         </th> <td>   0.332</td> \n",
              "</tr>\n",
              "<tr>\n",
              "  <th>Model:</th>                   <td>OLS</td>       <th>  Adj. R-squared:    </th> <td>   0.332</td> \n",
              "</tr>\n",
              "<tr>\n",
              "  <th>Method:</th>             <td>Least Squares</td>  <th>  F-statistic:       </th> <td>   9040.</td> \n",
              "</tr>\n",
              "<tr>\n",
              "  <th>Date:</th>             <td>Mon, 04 Oct 2021</td> <th>  Prob (F-statistic):</th>  <td>  0.00</td>  \n",
              "</tr>\n",
              "<tr>\n",
              "  <th>Time:</th>                 <td>05:14:27</td>     <th>  Log-Likelihood:    </th> <td> -53385.</td> \n",
              "</tr>\n",
              "<tr>\n",
              "  <th>No. Observations:</th>      <td> 18159</td>      <th>  AIC:               </th> <td>1.068e+05</td>\n",
              "</tr>\n",
              "<tr>\n",
              "  <th>Df Residuals:</th>          <td> 18157</td>      <th>  BIC:               </th> <td>1.068e+05</td>\n",
              "</tr>\n",
              "<tr>\n",
              "  <th>Df Model:</th>              <td>     1</td>      <th>                     </th>     <td> </td>    \n",
              "</tr>\n",
              "<tr>\n",
              "  <th>Covariance Type:</th>      <td>nonrobust</td>    <th>                     </th>     <td> </td>    \n",
              "</tr>\n",
              "</table>\n",
              "<table class=\"simpletable\">\n",
              "<tr>\n",
              "      <td></td>         <th>coef</th>     <th>std err</th>      <th>t</th>      <th>P>|t|</th>  <th>[0.025</th>    <th>0.975]</th>  \n",
              "</tr>\n",
              "<tr>\n",
              "  <th>const</th>     <td>  -35.1281</td> <td>    0.396</td> <td>  -88.632</td> <td> 0.000</td> <td>  -35.905</td> <td>  -34.351</td>\n",
              "</tr>\n",
              "<tr>\n",
              "  <th>Potential</th> <td>    0.5264</td> <td>    0.006</td> <td>   95.078</td> <td> 0.000</td> <td>    0.516</td> <td>    0.537</td>\n",
              "</tr>\n",
              "</table>\n",
              "<table class=\"simpletable\">\n",
              "<tr>\n",
              "  <th>Omnibus:</th>       <td>23377.748</td> <th>  Durbin-Watson:     </th>  <td>   0.552</td>  \n",
              "</tr>\n",
              "<tr>\n",
              "  <th>Prob(Omnibus):</th>  <td> 0.000</td>   <th>  Jarque-Bera (JB):  </th> <td>6503246.364</td>\n",
              "</tr>\n",
              "<tr>\n",
              "  <th>Skew:</th>           <td> 7.031</td>   <th>  Prob(JB):          </th>  <td>    0.00</td>  \n",
              "</tr>\n",
              "<tr>\n",
              "  <th>Kurtosis:</th>       <td>94.637</td>   <th>  Cond. No.          </th>  <td>    835.</td>  \n",
              "</tr>\n",
              "</table><br/><br/>Warnings:<br/>[1] Standard Errors assume that the covariance matrix of the errors is correctly specified."
            ],
            "text/plain": [
              "<class 'statsmodels.iolib.summary.Summary'>\n",
              "\"\"\"\n",
              "                            OLS Regression Results                            \n",
              "==============================================================================\n",
              "Dep. Variable:           ValueNumeric   R-squared:                       0.332\n",
              "Model:                            OLS   Adj. R-squared:                  0.332\n",
              "Method:                 Least Squares   F-statistic:                     9040.\n",
              "Date:                Mon, 04 Oct 2021   Prob (F-statistic):               0.00\n",
              "Time:                        05:14:27   Log-Likelihood:                -53385.\n",
              "No. Observations:               18159   AIC:                         1.068e+05\n",
              "Df Residuals:                   18157   BIC:                         1.068e+05\n",
              "Df Model:                           1                                         \n",
              "Covariance Type:            nonrobust                                         \n",
              "==============================================================================\n",
              "                 coef    std err          t      P>|t|      [0.025      0.975]\n",
              "------------------------------------------------------------------------------\n",
              "const        -35.1281      0.396    -88.632      0.000     -35.905     -34.351\n",
              "Potential      0.5264      0.006     95.078      0.000       0.516       0.537\n",
              "==============================================================================\n",
              "Omnibus:                    23377.748   Durbin-Watson:                   0.552\n",
              "Prob(Omnibus):                  0.000   Jarque-Bera (JB):          6503246.364\n",
              "Skew:                           7.031   Prob(JB):                         0.00\n",
              "Kurtosis:                      94.637   Cond. No.                         835.\n",
              "==============================================================================\n",
              "\n",
              "Warnings:\n",
              "[1] Standard Errors assume that the covariance matrix of the errors is correctly specified.\n",
              "\"\"\""
            ]
          },
          "metadata": {},
          "execution_count": 54
        }
      ]
    },
    {
      "cell_type": "markdown",
      "metadata": {
        "id": "J2hzCZvunLcr"
      },
      "source": [
        "Report your findings from the model summary. In particular, report about the model as a whole using the F-test and how much variation is predicted by the model using the r squared."
      ]
    },
    {
      "cell_type": "code",
      "metadata": {
        "id": "Xjoo-yZunLcs"
      },
      "source": [
        "# Your conclusions here:\n",
        "\n"
      ],
      "execution_count": 55,
      "outputs": []
    },
    {
      "cell_type": "markdown",
      "metadata": {
        "id": "kNUwaDZwnLcs"
      },
      "source": [
        "Plot a scatter plot of value vs. potential. Do you see a linear relationship?"
      ]
    },
    {
      "cell_type": "code",
      "metadata": {
        "colab": {
          "base_uri": "https://localhost:8080/"
        },
        "id": "Zywr_vU2XEyR",
        "outputId": "21190448-a45e-4829-e7ea-2cf7e518e887"
      },
      "source": [
        "x = fifa['ValueNumeric']\n",
        "y = fifa['Potential']\n",
        "linreg = linregress(x, y)\n",
        "linreg"
      ],
      "execution_count": 56,
      "outputs": [
        {
          "output_type": "execute_result",
          "data": {
            "text/plain": [
              "LinregressResult(slope=0.6313982972780046, intercept=69.79358425376547, rvalue=0.5765277675148193, pvalue=0.0, stderr=0.006640861331846189)"
            ]
          },
          "metadata": {},
          "execution_count": 56
        }
      ]
    },
    {
      "cell_type": "code",
      "metadata": {
        "id": "tym17SV5nLcs",
        "colab": {
          "base_uri": "https://localhost:8080/",
          "height": 606
        },
        "outputId": "a446ab2e-7130-473e-b662-dbcf443c0895"
      },
      "source": [
        "# Your code here:\n",
        "\n",
        "x_ = np.linspace(x.min(), x.max(), num=50)\n",
        "\n",
        "y_ = linreg[0]*x_+linreg[1] # m*x+b\n",
        "\n",
        "plt.figure(figsize=(10, 10))\n",
        "plt.plot(x_, y_)\n",
        "plt.scatter(x, y, marker='x')\n",
        "plt.xlabel('Value $')\n",
        "plt.ylabel('Potential');\n"
      ],
      "execution_count": 57,
      "outputs": [
        {
          "output_type": "display_data",
          "data": {
            "image/png": "[encoded data removed]",
            "text/plain": [
              "<Figure size 720x720 with 1 Axes>"
            ]
          },
          "metadata": {
            "needs_background": "light"
          }
        }
      ]
    },
    {
      "cell_type": "code",
      "metadata": {
        "id": "wWXWoH1LnLcs"
      },
      "source": [
        "\n"
      ],
      "execution_count": 57,
      "outputs": []
    }
  ]
}