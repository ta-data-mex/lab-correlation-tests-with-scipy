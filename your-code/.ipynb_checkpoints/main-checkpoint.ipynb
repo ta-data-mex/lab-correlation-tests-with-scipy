{
 "cells": [
  {
   "cell_type": "markdown",
   "metadata": {},
   "source": [
    "# Before your start:\n",
    "- Read the README.md file\n",
    "- Comment as much as you can and use the resources (README.md file)\n",
    "- Happy learning!"
   ]
  },
  {
   "cell_type": "code",
   "execution_count": 1,
   "metadata": {},
   "outputs": [],
   "source": [
    "%matplotlib inline\n",
    "# Import numpy and pandas\n",
    "\n",
    "from scipy.stats import linregress\n",
    "\n",
    "import statsmodels.api as sm\n",
    "from statsmodels.formula.api import ols\n",
    "\n",
    "import re\n",
    "\n",
    "import pandas as pd\n",
    "import numpy as np\n",
    "import pylab as plt\n",
    "import seaborn as sns\n",
    "\n",
    "from sklearn.linear_model import LinearRegression\n",
    "from sklearn.metrics import r2_score"
   ]
  },
  {
   "cell_type": "code",
   "execution_count": 2,
   "metadata": {},
   "outputs": [],
   "source": [
    "pd.set_option('display.float_format', lambda x: '%.5f' % x)"
   ]
  },
  {
   "cell_type": "code",
   "execution_count": 3,
   "metadata": {},
   "outputs": [],
   "source": [
    "plt.style.use('ggplot')"
   ]
  },
  {
   "cell_type": "markdown",
   "metadata": {},
   "source": [
    "# Challenge 1 - Analysis of Variance\n",
    "\n",
    "In this part of the lesson, we will perform an analysis of variance to determine whether the factors in our model create a significant difference in the group means. We will be examining a dataset of FIFA players. We'll start by loading the data using the code in the cell below."
   ]
  },
  {
   "cell_type": "code",
   "execution_count": 4,
   "metadata": {},
   "outputs": [],
   "source": [
    "# Run this code:\n",
    "\n",
    "fifa = pd.read_csv(r'/Users/diegoperezo97/Documents/Ironhack – Data Analytics Bootcamp/Module 2/Week 5/Day 5/lab-correlation-tests-with-scipy/your-code/fifa.csv')"
   ]
  },
  {
   "cell_type": "markdown",
   "metadata": {},
   "source": [
    "Let's examine the dataset by looking at the `head`."
   ]
  },
  {
   "cell_type": "code",
   "execution_count": 5,
   "metadata": {},
   "outputs": [
    {
     "data": {
      "text/html": [
       "<div>\n",
       "<style scoped>\n",
       "    .dataframe tbody tr th:only-of-type {\n",
       "        vertical-align: middle;\n",
       "    }\n",
       "\n",
       "    .dataframe tbody tr th {\n",
       "        vertical-align: top;\n",
       "    }\n",
       "\n",
       "    .dataframe thead th {\n",
       "        text-align: right;\n",
       "    }\n",
       "</style>\n",
       "<table border=\"1\" class=\"dataframe\">\n",
       "  <thead>\n",
       "    <tr style=\"text-align: right;\">\n",
       "      <th></th>\n",
       "      <th>Name</th>\n",
       "      <th>Age</th>\n",
       "      <th>Nationality</th>\n",
       "      <th>Overall</th>\n",
       "      <th>Potential</th>\n",
       "      <th>Club</th>\n",
       "      <th>Value</th>\n",
       "      <th>Preferred Foot</th>\n",
       "      <th>Position</th>\n",
       "      <th>Weak Foot</th>\n",
       "      <th>Acceleration</th>\n",
       "      <th>SprintSpeed</th>\n",
       "      <th>Stamina</th>\n",
       "      <th>Strength</th>\n",
       "      <th>LongShots</th>\n",
       "      <th>Aggression</th>\n",
       "      <th>Interceptions</th>\n",
       "      <th>Positioning</th>\n",
       "      <th>Vision</th>\n",
       "      <th>Penalties</th>\n",
       "    </tr>\n",
       "  </thead>\n",
       "  <tbody>\n",
       "    <tr>\n",
       "      <th>0</th>\n",
       "      <td>L. Messi</td>\n",
       "      <td>31</td>\n",
       "      <td>Argentina</td>\n",
       "      <td>94</td>\n",
       "      <td>94</td>\n",
       "      <td>FC Barcelona</td>\n",
       "      <td>€110.5M</td>\n",
       "      <td>Left</td>\n",
       "      <td>RF</td>\n",
       "      <td>4.00000</td>\n",
       "      <td>91.00000</td>\n",
       "      <td>86.00000</td>\n",
       "      <td>72.00000</td>\n",
       "      <td>59.00000</td>\n",
       "      <td>94.00000</td>\n",
       "      <td>48.00000</td>\n",
       "      <td>22.00000</td>\n",
       "      <td>94.00000</td>\n",
       "      <td>94.00000</td>\n",
       "      <td>75.00000</td>\n",
       "    </tr>\n",
       "    <tr>\n",
       "      <th>1</th>\n",
       "      <td>Cristiano Ronaldo</td>\n",
       "      <td>33</td>\n",
       "      <td>Portugal</td>\n",
       "      <td>94</td>\n",
       "      <td>94</td>\n",
       "      <td>Juventus</td>\n",
       "      <td>€77M</td>\n",
       "      <td>Right</td>\n",
       "      <td>ST</td>\n",
       "      <td>4.00000</td>\n",
       "      <td>89.00000</td>\n",
       "      <td>91.00000</td>\n",
       "      <td>88.00000</td>\n",
       "      <td>79.00000</td>\n",
       "      <td>93.00000</td>\n",
       "      <td>63.00000</td>\n",
       "      <td>29.00000</td>\n",
       "      <td>95.00000</td>\n",
       "      <td>82.00000</td>\n",
       "      <td>85.00000</td>\n",
       "    </tr>\n",
       "    <tr>\n",
       "      <th>2</th>\n",
       "      <td>Neymar Jr</td>\n",
       "      <td>26</td>\n",
       "      <td>Brazil</td>\n",
       "      <td>92</td>\n",
       "      <td>93</td>\n",
       "      <td>Paris Saint-Germain</td>\n",
       "      <td>€118.5M</td>\n",
       "      <td>Right</td>\n",
       "      <td>LW</td>\n",
       "      <td>5.00000</td>\n",
       "      <td>94.00000</td>\n",
       "      <td>90.00000</td>\n",
       "      <td>81.00000</td>\n",
       "      <td>49.00000</td>\n",
       "      <td>82.00000</td>\n",
       "      <td>56.00000</td>\n",
       "      <td>36.00000</td>\n",
       "      <td>89.00000</td>\n",
       "      <td>87.00000</td>\n",
       "      <td>81.00000</td>\n",
       "    </tr>\n",
       "    <tr>\n",
       "      <th>3</th>\n",
       "      <td>De Gea</td>\n",
       "      <td>27</td>\n",
       "      <td>Spain</td>\n",
       "      <td>91</td>\n",
       "      <td>93</td>\n",
       "      <td>Manchester United</td>\n",
       "      <td>€72M</td>\n",
       "      <td>Right</td>\n",
       "      <td>GK</td>\n",
       "      <td>3.00000</td>\n",
       "      <td>57.00000</td>\n",
       "      <td>58.00000</td>\n",
       "      <td>43.00000</td>\n",
       "      <td>64.00000</td>\n",
       "      <td>12.00000</td>\n",
       "      <td>38.00000</td>\n",
       "      <td>30.00000</td>\n",
       "      <td>12.00000</td>\n",
       "      <td>68.00000</td>\n",
       "      <td>40.00000</td>\n",
       "    </tr>\n",
       "    <tr>\n",
       "      <th>4</th>\n",
       "      <td>K. De Bruyne</td>\n",
       "      <td>27</td>\n",
       "      <td>Belgium</td>\n",
       "      <td>91</td>\n",
       "      <td>92</td>\n",
       "      <td>Manchester City</td>\n",
       "      <td>€102M</td>\n",
       "      <td>Right</td>\n",
       "      <td>RCM</td>\n",
       "      <td>5.00000</td>\n",
       "      <td>78.00000</td>\n",
       "      <td>76.00000</td>\n",
       "      <td>90.00000</td>\n",
       "      <td>75.00000</td>\n",
       "      <td>91.00000</td>\n",
       "      <td>76.00000</td>\n",
       "      <td>61.00000</td>\n",
       "      <td>87.00000</td>\n",
       "      <td>94.00000</td>\n",
       "      <td>79.00000</td>\n",
       "    </tr>\n",
       "  </tbody>\n",
       "</table>\n",
       "</div>"
      ],
      "text/plain": [
       "                Name  Age Nationality  Overall  Potential  \\\n",
       "0           L. Messi   31   Argentina       94         94   \n",
       "1  Cristiano Ronaldo   33    Portugal       94         94   \n",
       "2          Neymar Jr   26      Brazil       92         93   \n",
       "3             De Gea   27       Spain       91         93   \n",
       "4       K. De Bruyne   27     Belgium       91         92   \n",
       "\n",
       "                  Club    Value Preferred Foot Position  Weak Foot  \\\n",
       "0         FC Barcelona  €110.5M           Left       RF    4.00000   \n",
       "1             Juventus     €77M          Right       ST    4.00000   \n",
       "2  Paris Saint-Germain  €118.5M          Right       LW    5.00000   \n",
       "3    Manchester United     €72M          Right       GK    3.00000   \n",
       "4      Manchester City    €102M          Right      RCM    5.00000   \n",
       "\n",
       "   Acceleration  SprintSpeed  Stamina  Strength  LongShots  Aggression  \\\n",
       "0      91.00000     86.00000 72.00000  59.00000   94.00000    48.00000   \n",
       "1      89.00000     91.00000 88.00000  79.00000   93.00000    63.00000   \n",
       "2      94.00000     90.00000 81.00000  49.00000   82.00000    56.00000   \n",
       "3      57.00000     58.00000 43.00000  64.00000   12.00000    38.00000   \n",
       "4      78.00000     76.00000 90.00000  75.00000   91.00000    76.00000   \n",
       "\n",
       "   Interceptions  Positioning   Vision  Penalties  \n",
       "0       22.00000     94.00000 94.00000   75.00000  \n",
       "1       29.00000     95.00000 82.00000   85.00000  \n",
       "2       36.00000     89.00000 87.00000   81.00000  \n",
       "3       30.00000     12.00000 68.00000   40.00000  \n",
       "4       61.00000     87.00000 94.00000   79.00000  "
      ]
     },
     "execution_count": 5,
     "metadata": {},
     "output_type": "execute_result"
    }
   ],
   "source": [
    "# Your code here:\n",
    "\n",
    "fifa.head(5)"
   ]
  },
  {
   "cell_type": "markdown",
   "metadata": {},
   "source": [
    "Player's values are expressed in millions of euros. We would like this column to be numeric. Therefore, let's create a numeric value column. Do this by stripping all non-numeric characters from each cell. Assign this new data to `ValueNumeric`. There is no need to multiply the value to be expressed in millions. "
   ]
  },
  {
   "cell_type": "code",
   "execution_count": 6,
   "metadata": {},
   "outputs": [
    {
     "data": {
      "text/html": [
       "<div>\n",
       "<style scoped>\n",
       "    .dataframe tbody tr th:only-of-type {\n",
       "        vertical-align: middle;\n",
       "    }\n",
       "\n",
       "    .dataframe tbody tr th {\n",
       "        vertical-align: top;\n",
       "    }\n",
       "\n",
       "    .dataframe thead th {\n",
       "        text-align: right;\n",
       "    }\n",
       "</style>\n",
       "<table border=\"1\" class=\"dataframe\">\n",
       "  <thead>\n",
       "    <tr style=\"text-align: right;\">\n",
       "      <th></th>\n",
       "      <th>Name</th>\n",
       "      <th>Age</th>\n",
       "      <th>Nationality</th>\n",
       "      <th>Overall</th>\n",
       "      <th>Potential</th>\n",
       "      <th>Club</th>\n",
       "      <th>Value</th>\n",
       "      <th>Preferred Foot</th>\n",
       "      <th>Position</th>\n",
       "      <th>Weak Foot</th>\n",
       "      <th>...</th>\n",
       "      <th>SprintSpeed</th>\n",
       "      <th>Stamina</th>\n",
       "      <th>Strength</th>\n",
       "      <th>LongShots</th>\n",
       "      <th>Aggression</th>\n",
       "      <th>Interceptions</th>\n",
       "      <th>Positioning</th>\n",
       "      <th>Vision</th>\n",
       "      <th>Penalties</th>\n",
       "      <th>ValueNumeric</th>\n",
       "    </tr>\n",
       "  </thead>\n",
       "  <tbody>\n",
       "    <tr>\n",
       "      <th>0</th>\n",
       "      <td>L. Messi</td>\n",
       "      <td>31</td>\n",
       "      <td>Argentina</td>\n",
       "      <td>94</td>\n",
       "      <td>94</td>\n",
       "      <td>FC Barcelona</td>\n",
       "      <td>€110.5M</td>\n",
       "      <td>Left</td>\n",
       "      <td>RF</td>\n",
       "      <td>4.00000</td>\n",
       "      <td>...</td>\n",
       "      <td>86.00000</td>\n",
       "      <td>72.00000</td>\n",
       "      <td>59.00000</td>\n",
       "      <td>94.00000</td>\n",
       "      <td>48.00000</td>\n",
       "      <td>22.00000</td>\n",
       "      <td>94.00000</td>\n",
       "      <td>94.00000</td>\n",
       "      <td>75.00000</td>\n",
       "      <td>110500000.00000</td>\n",
       "    </tr>\n",
       "    <tr>\n",
       "      <th>1</th>\n",
       "      <td>Cristiano Ronaldo</td>\n",
       "      <td>33</td>\n",
       "      <td>Portugal</td>\n",
       "      <td>94</td>\n",
       "      <td>94</td>\n",
       "      <td>Juventus</td>\n",
       "      <td>€77M</td>\n",
       "      <td>Right</td>\n",
       "      <td>ST</td>\n",
       "      <td>4.00000</td>\n",
       "      <td>...</td>\n",
       "      <td>91.00000</td>\n",
       "      <td>88.00000</td>\n",
       "      <td>79.00000</td>\n",
       "      <td>93.00000</td>\n",
       "      <td>63.00000</td>\n",
       "      <td>29.00000</td>\n",
       "      <td>95.00000</td>\n",
       "      <td>82.00000</td>\n",
       "      <td>85.00000</td>\n",
       "      <td>77000000.00000</td>\n",
       "    </tr>\n",
       "    <tr>\n",
       "      <th>2</th>\n",
       "      <td>Neymar Jr</td>\n",
       "      <td>26</td>\n",
       "      <td>Brazil</td>\n",
       "      <td>92</td>\n",
       "      <td>93</td>\n",
       "      <td>Paris Saint-Germain</td>\n",
       "      <td>€118.5M</td>\n",
       "      <td>Right</td>\n",
       "      <td>LW</td>\n",
       "      <td>5.00000</td>\n",
       "      <td>...</td>\n",
       "      <td>90.00000</td>\n",
       "      <td>81.00000</td>\n",
       "      <td>49.00000</td>\n",
       "      <td>82.00000</td>\n",
       "      <td>56.00000</td>\n",
       "      <td>36.00000</td>\n",
       "      <td>89.00000</td>\n",
       "      <td>87.00000</td>\n",
       "      <td>81.00000</td>\n",
       "      <td>118500000.00000</td>\n",
       "    </tr>\n",
       "    <tr>\n",
       "      <th>3</th>\n",
       "      <td>De Gea</td>\n",
       "      <td>27</td>\n",
       "      <td>Spain</td>\n",
       "      <td>91</td>\n",
       "      <td>93</td>\n",
       "      <td>Manchester United</td>\n",
       "      <td>€72M</td>\n",
       "      <td>Right</td>\n",
       "      <td>GK</td>\n",
       "      <td>3.00000</td>\n",
       "      <td>...</td>\n",
       "      <td>58.00000</td>\n",
       "      <td>43.00000</td>\n",
       "      <td>64.00000</td>\n",
       "      <td>12.00000</td>\n",
       "      <td>38.00000</td>\n",
       "      <td>30.00000</td>\n",
       "      <td>12.00000</td>\n",
       "      <td>68.00000</td>\n",
       "      <td>40.00000</td>\n",
       "      <td>72000000.00000</td>\n",
       "    </tr>\n",
       "    <tr>\n",
       "      <th>4</th>\n",
       "      <td>K. De Bruyne</td>\n",
       "      <td>27</td>\n",
       "      <td>Belgium</td>\n",
       "      <td>91</td>\n",
       "      <td>92</td>\n",
       "      <td>Manchester City</td>\n",
       "      <td>€102M</td>\n",
       "      <td>Right</td>\n",
       "      <td>RCM</td>\n",
       "      <td>5.00000</td>\n",
       "      <td>...</td>\n",
       "      <td>76.00000</td>\n",
       "      <td>90.00000</td>\n",
       "      <td>75.00000</td>\n",
       "      <td>91.00000</td>\n",
       "      <td>76.00000</td>\n",
       "      <td>61.00000</td>\n",
       "      <td>87.00000</td>\n",
       "      <td>94.00000</td>\n",
       "      <td>79.00000</td>\n",
       "      <td>102000000.00000</td>\n",
       "    </tr>\n",
       "  </tbody>\n",
       "</table>\n",
       "<p>5 rows × 21 columns</p>\n",
       "</div>"
      ],
      "text/plain": [
       "                Name  Age Nationality  Overall  Potential  \\\n",
       "0           L. Messi   31   Argentina       94         94   \n",
       "1  Cristiano Ronaldo   33    Portugal       94         94   \n",
       "2          Neymar Jr   26      Brazil       92         93   \n",
       "3             De Gea   27       Spain       91         93   \n",
       "4       K. De Bruyne   27     Belgium       91         92   \n",
       "\n",
       "                  Club    Value Preferred Foot Position  Weak Foot  ...  \\\n",
       "0         FC Barcelona  €110.5M           Left       RF    4.00000  ...   \n",
       "1             Juventus     €77M          Right       ST    4.00000  ...   \n",
       "2  Paris Saint-Germain  €118.5M          Right       LW    5.00000  ...   \n",
       "3    Manchester United     €72M          Right       GK    3.00000  ...   \n",
       "4      Manchester City    €102M          Right      RCM    5.00000  ...   \n",
       "\n",
       "   SprintSpeed  Stamina  Strength  LongShots  Aggression  Interceptions  \\\n",
       "0     86.00000 72.00000  59.00000   94.00000    48.00000       22.00000   \n",
       "1     91.00000 88.00000  79.00000   93.00000    63.00000       29.00000   \n",
       "2     90.00000 81.00000  49.00000   82.00000    56.00000       36.00000   \n",
       "3     58.00000 43.00000  64.00000   12.00000    38.00000       30.00000   \n",
       "4     76.00000 90.00000  75.00000   91.00000    76.00000       61.00000   \n",
       "\n",
       "   Positioning   Vision  Penalties    ValueNumeric  \n",
       "0     94.00000 94.00000   75.00000 110500000.00000  \n",
       "1     95.00000 82.00000   85.00000  77000000.00000  \n",
       "2     89.00000 87.00000   81.00000 118500000.00000  \n",
       "3     12.00000 68.00000   40.00000  72000000.00000  \n",
       "4     87.00000 94.00000   79.00000 102000000.00000  \n",
       "\n",
       "[5 rows x 21 columns]"
      ]
     },
     "execution_count": 6,
     "metadata": {},
     "output_type": "execute_result"
    }
   ],
   "source": [
    "# Your code here:\n",
    "\n",
    "def remove_non_numeric(x):\n",
    "    if x[-1] == 'M':\n",
    "        return(float(re.sub('[^0-9\\.]', '', x))*10**6)\n",
    "    elif x[-1] == 'K':\n",
    "        return(float(re.sub('[^0-9\\.]', '', x))*10**3)\n",
    "        \n",
    "fifa['ValueNumeric'] = fifa['Value'].apply(remove_non_numeric)\n",
    "\n",
    "fifa.head(5)"
   ]
  },
  {
   "cell_type": "code",
   "execution_count": 7,
   "metadata": {},
   "outputs": [],
   "source": [
    "fifa['ValueNumeric'] = pd.to_numeric(fifa['ValueNumeric'])"
   ]
  },
  {
   "cell_type": "markdown",
   "metadata": {},
   "source": [
    "#### We'd like to determine whether a player's preffered foot and position have an impact on their value. \n",
    "\n",
    "Using the `statsmodels` library, we are able to produce an ANOVA table without munging our data. Create an ANOVA table with value as a function of position and preferred foot. Recall that pivoting is performed by the `C` function.\n",
    "\n",
    "Hint: For columns that have a space in their name, it is best to refer to the column using the dataframe (For example: for column `A`, we will use `df['A']`)."
   ]
  },
  {
   "cell_type": "code",
   "execution_count": 8,
   "metadata": {},
   "outputs": [
    {
     "data": {
      "text/html": [
       "<div>\n",
       "<style scoped>\n",
       "    .dataframe tbody tr th:only-of-type {\n",
       "        vertical-align: middle;\n",
       "    }\n",
       "\n",
       "    .dataframe tbody tr th {\n",
       "        vertical-align: top;\n",
       "    }\n",
       "\n",
       "    .dataframe thead th {\n",
       "        text-align: right;\n",
       "    }\n",
       "</style>\n",
       "<table border=\"1\" class=\"dataframe\">\n",
       "  <thead>\n",
       "    <tr style=\"text-align: right;\">\n",
       "      <th></th>\n",
       "      <th>Preferred Foot</th>\n",
       "      <th>Position</th>\n",
       "      <th>ValueNumeric</th>\n",
       "    </tr>\n",
       "  </thead>\n",
       "  <tbody>\n",
       "    <tr>\n",
       "      <th>0</th>\n",
       "      <td>Left</td>\n",
       "      <td>RF</td>\n",
       "      <td>110500000.00000</td>\n",
       "    </tr>\n",
       "    <tr>\n",
       "      <th>1</th>\n",
       "      <td>Right</td>\n",
       "      <td>ST</td>\n",
       "      <td>77000000.00000</td>\n",
       "    </tr>\n",
       "    <tr>\n",
       "      <th>2</th>\n",
       "      <td>Right</td>\n",
       "      <td>LW</td>\n",
       "      <td>118500000.00000</td>\n",
       "    </tr>\n",
       "    <tr>\n",
       "      <th>3</th>\n",
       "      <td>Right</td>\n",
       "      <td>GK</td>\n",
       "      <td>72000000.00000</td>\n",
       "    </tr>\n",
       "    <tr>\n",
       "      <th>4</th>\n",
       "      <td>Right</td>\n",
       "      <td>RCM</td>\n",
       "      <td>102000000.00000</td>\n",
       "    </tr>\n",
       "  </tbody>\n",
       "</table>\n",
       "</div>"
      ],
      "text/plain": [
       "  Preferred Foot Position    ValueNumeric\n",
       "0           Left       RF 110500000.00000\n",
       "1          Right       ST  77000000.00000\n",
       "2          Right       LW 118500000.00000\n",
       "3          Right       GK  72000000.00000\n",
       "4          Right      RCM 102000000.00000"
      ]
     },
     "execution_count": 8,
     "metadata": {},
     "output_type": "execute_result"
    }
   ],
   "source": [
    "fifa_sub_df_1 = fifa[['Preferred Foot', 'Position', 'ValueNumeric']]\n",
    "fifa_sub_df_1.head(5)"
   ]
  },
  {
   "cell_type": "code",
   "execution_count": 9,
   "metadata": {},
   "outputs": [
    {
     "data": {
      "text/html": [
       "<div>\n",
       "<style scoped>\n",
       "    .dataframe tbody tr th:only-of-type {\n",
       "        vertical-align: middle;\n",
       "    }\n",
       "\n",
       "    .dataframe tbody tr th {\n",
       "        vertical-align: top;\n",
       "    }\n",
       "\n",
       "    .dataframe thead th {\n",
       "        text-align: right;\n",
       "    }\n",
       "</style>\n",
       "<table border=\"1\" class=\"dataframe\">\n",
       "  <thead>\n",
       "    <tr style=\"text-align: right;\">\n",
       "      <th></th>\n",
       "      <th>sum_sq</th>\n",
       "      <th>df</th>\n",
       "      <th>F</th>\n",
       "      <th>PR(&gt;F)</th>\n",
       "    </tr>\n",
       "  </thead>\n",
       "  <tbody>\n",
       "    <tr>\n",
       "      <th>C(fifa_sub_df_1['Preferred Foot'])</th>\n",
       "      <td>231646104866906.59375</td>\n",
       "      <td>1.00000</td>\n",
       "      <td>7.51026</td>\n",
       "      <td>0.00614</td>\n",
       "    </tr>\n",
       "    <tr>\n",
       "      <th>C(fifa_sub_df_1['Position'])</th>\n",
       "      <td>16596095505820346.00000</td>\n",
       "      <td>26.00000</td>\n",
       "      <td>20.69485</td>\n",
       "      <td>0.00000</td>\n",
       "    </tr>\n",
       "    <tr>\n",
       "      <th>Residual</th>\n",
       "      <td>551459281946195968.00000</td>\n",
       "      <td>17879.00000</td>\n",
       "      <td>NaN</td>\n",
       "      <td>NaN</td>\n",
       "    </tr>\n",
       "  </tbody>\n",
       "</table>\n",
       "</div>"
      ],
      "text/plain": [
       "                                                     sum_sq          df  \\\n",
       "C(fifa_sub_df_1['Preferred Foot'])    231646104866906.59375     1.00000   \n",
       "C(fifa_sub_df_1['Position'])        16596095505820346.00000    26.00000   \n",
       "Residual                           551459281946195968.00000 17879.00000   \n",
       "\n",
       "                                          F  PR(>F)  \n",
       "C(fifa_sub_df_1['Preferred Foot'])  7.51026 0.00614  \n",
       "C(fifa_sub_df_1['Position'])       20.69485 0.00000  \n",
       "Residual                                NaN     NaN  "
      ]
     },
     "execution_count": 9,
     "metadata": {},
     "output_type": "execute_result"
    }
   ],
   "source": [
    "# Your code here:\n",
    "\n",
    "formula = \"ValueNumeric ~C(fifa_sub_df_1['Preferred Foot']) + C(fifa_sub_df_1['Position'])\"\n",
    "modelo = ols(formula=formula, data=fifa_sub_df_1).fit()\n",
    "anova_table = sm.stats.anova_lm(modelo, typ=2)\n",
    "anova_table"
   ]
  },
  {
   "cell_type": "markdown",
   "metadata": {},
   "source": [
    "What is your conclusion from this ANOVA?"
   ]
  },
  {
   "cell_type": "markdown",
   "metadata": {},
   "source": [
    "##### Your conclusions here:\n",
    "\n",
    "There is no significant differences between position and preferred foot with value. Null hypothesis is rejected."
   ]
  },
  {
   "cell_type": "markdown",
   "metadata": {},
   "source": [
    "After looking at a model of both preffered foot and position, we decide to create an ANOVA table for nationality. Create an ANOVA table for numeric value as a function of nationality."
   ]
  },
  {
   "cell_type": "code",
   "execution_count": 10,
   "metadata": {},
   "outputs": [
    {
     "data": {
      "text/html": [
       "<div>\n",
       "<style scoped>\n",
       "    .dataframe tbody tr th:only-of-type {\n",
       "        vertical-align: middle;\n",
       "    }\n",
       "\n",
       "    .dataframe tbody tr th {\n",
       "        vertical-align: top;\n",
       "    }\n",
       "\n",
       "    .dataframe thead th {\n",
       "        text-align: right;\n",
       "    }\n",
       "</style>\n",
       "<table border=\"1\" class=\"dataframe\">\n",
       "  <thead>\n",
       "    <tr style=\"text-align: right;\">\n",
       "      <th></th>\n",
       "      <th>Nationality</th>\n",
       "      <th>ValueNumeric</th>\n",
       "    </tr>\n",
       "  </thead>\n",
       "  <tbody>\n",
       "    <tr>\n",
       "      <th>0</th>\n",
       "      <td>Argentina</td>\n",
       "      <td>110500000.00000</td>\n",
       "    </tr>\n",
       "    <tr>\n",
       "      <th>1</th>\n",
       "      <td>Portugal</td>\n",
       "      <td>77000000.00000</td>\n",
       "    </tr>\n",
       "    <tr>\n",
       "      <th>2</th>\n",
       "      <td>Brazil</td>\n",
       "      <td>118500000.00000</td>\n",
       "    </tr>\n",
       "    <tr>\n",
       "      <th>3</th>\n",
       "      <td>Spain</td>\n",
       "      <td>72000000.00000</td>\n",
       "    </tr>\n",
       "    <tr>\n",
       "      <th>4</th>\n",
       "      <td>Belgium</td>\n",
       "      <td>102000000.00000</td>\n",
       "    </tr>\n",
       "  </tbody>\n",
       "</table>\n",
       "</div>"
      ],
      "text/plain": [
       "  Nationality    ValueNumeric\n",
       "0   Argentina 110500000.00000\n",
       "1    Portugal  77000000.00000\n",
       "2      Brazil 118500000.00000\n",
       "3       Spain  72000000.00000\n",
       "4     Belgium 102000000.00000"
      ]
     },
     "execution_count": 10,
     "metadata": {},
     "output_type": "execute_result"
    }
   ],
   "source": [
    "# Your code here:\n",
    "\n",
    "fifa_sub_df_2 = fifa[['Nationality', 'ValueNumeric']]\n",
    "fifa_sub_df_2.head(5)"
   ]
  },
  {
   "cell_type": "code",
   "execution_count": 11,
   "metadata": {},
   "outputs": [
    {
     "data": {
      "text/html": [
       "<div>\n",
       "<style scoped>\n",
       "    .dataframe tbody tr th:only-of-type {\n",
       "        vertical-align: middle;\n",
       "    }\n",
       "\n",
       "    .dataframe tbody tr th {\n",
       "        vertical-align: top;\n",
       "    }\n",
       "\n",
       "    .dataframe thead th {\n",
       "        text-align: right;\n",
       "    }\n",
       "</style>\n",
       "<table border=\"1\" class=\"dataframe\">\n",
       "  <thead>\n",
       "    <tr style=\"text-align: right;\">\n",
       "      <th></th>\n",
       "      <th>df</th>\n",
       "      <th>sum_sq</th>\n",
       "      <th>mean_sq</th>\n",
       "      <th>F</th>\n",
       "      <th>PR(&gt;F)</th>\n",
       "    </tr>\n",
       "  </thead>\n",
       "  <tbody>\n",
       "    <tr>\n",
       "      <th>C(fifa_sub_df_2['Nationality'])</th>\n",
       "      <td>163.00000</td>\n",
       "      <td>33392897252819952.00000</td>\n",
       "      <td>204864400324048.78125</td>\n",
       "      <td>6.80548</td>\n",
       "      <td>0.00000</td>\n",
       "    </tr>\n",
       "    <tr>\n",
       "      <th>Residual</th>\n",
       "      <td>17792.00000</td>\n",
       "      <td>535589667783116864.00000</td>\n",
       "      <td>30102836543565.47266</td>\n",
       "      <td>NaN</td>\n",
       "      <td>NaN</td>\n",
       "    </tr>\n",
       "  </tbody>\n",
       "</table>\n",
       "</div>"
      ],
      "text/plain": [
       "                                         df                   sum_sq  \\\n",
       "C(fifa_sub_df_2['Nationality'])   163.00000  33392897252819952.00000   \n",
       "Residual                        17792.00000 535589667783116864.00000   \n",
       "\n",
       "                                              mean_sq       F  PR(>F)  \n",
       "C(fifa_sub_df_2['Nationality']) 204864400324048.78125 6.80548 0.00000  \n",
       "Residual                         30102836543565.47266     NaN     NaN  "
      ]
     },
     "execution_count": 11,
     "metadata": {},
     "output_type": "execute_result"
    }
   ],
   "source": [
    "formula = \"ValueNumeric ~C(fifa_sub_df_2['Nationality'])\"\n",
    "modelo = ols(formula=formula, data=fifa_sub_df_2).fit()\n",
    "anova_table = sm.stats.anova_lm(modelo, typ=1)\n",
    "anova_table"
   ]
  },
  {
   "cell_type": "markdown",
   "metadata": {},
   "source": [
    "What is your conclusion from this ANOVA?"
   ]
  },
  {
   "cell_type": "markdown",
   "metadata": {},
   "source": [
    "# Challenge 2 - Linear Regression\n",
    "\n",
    "Our goal with using linear regression is to create a mathematical model that will enable us to predict the outcome of one variable using one or more additional independent variables.\n",
    "\n",
    "We'll start by ensuring there are no missing values. Examine all variables for all missing values. If there are missing values in a row, remove the entire row."
   ]
  },
  {
   "cell_type": "code",
   "execution_count": 12,
   "metadata": {},
   "outputs": [
    {
     "data": {
      "text/plain": [
       "Name                0\n",
       "Age                 0\n",
       "Nationality         0\n",
       "Overall             0\n",
       "Potential           0\n",
       "Club              241\n",
       "Value               0\n",
       "Preferred Foot     48\n",
       "Position           60\n",
       "Weak Foot          48\n",
       "Acceleration       48\n",
       "SprintSpeed        48\n",
       "Stamina            48\n",
       "Strength           48\n",
       "LongShots          48\n",
       "Aggression         48\n",
       "Interceptions      48\n",
       "Positioning        48\n",
       "Vision             48\n",
       "Penalties          48\n",
       "ValueNumeric      252\n",
       "dtype: int64"
      ]
     },
     "execution_count": 12,
     "metadata": {},
     "output_type": "execute_result"
    }
   ],
   "source": [
    "# Your code here:\n",
    "\n",
    "fifa.isnull().sum()"
   ]
  },
  {
   "cell_type": "code",
   "execution_count": 13,
   "metadata": {},
   "outputs": [
    {
     "data": {
      "text/plain": [
       "(18207, 21)"
      ]
     },
     "execution_count": 13,
     "metadata": {},
     "output_type": "execute_result"
    }
   ],
   "source": [
    "fifa.shape"
   ]
  },
  {
   "cell_type": "code",
   "execution_count": 14,
   "metadata": {},
   "outputs": [],
   "source": [
    "fifa = fifa.dropna()"
   ]
  },
  {
   "cell_type": "markdown",
   "metadata": {},
   "source": [
    "Using the FIFA dataset, in the cell below, create a linear model predicting value using stamina and sprint speed. create the model using `statsmodels`. Print the model summary.\n",
    "\n",
    "Hint: remember to add an intercept to the model using the `add_constant` function."
   ]
  },
  {
   "cell_type": "code",
   "execution_count": 15,
   "metadata": {},
   "outputs": [],
   "source": [
    "# Your code here:\n",
    "\n",
    "x = sm.add_constant(fifa[['SprintSpeed','Stamina']])\n",
    "y = fifa['ValueNumeric']"
   ]
  },
  {
   "cell_type": "markdown",
   "metadata": {},
   "source": [
    "Report your findings from the model summary. In particular, report about the model as a whole using the F-test and how much variation is predicted by the model using the r squared."
   ]
  },
  {
   "cell_type": "code",
   "execution_count": 16,
   "metadata": {},
   "outputs": [
    {
     "name": "stdout",
     "output_type": "stream",
     "text": [
      "                            OLS Regression Results                            \n",
      "==============================================================================\n",
      "Dep. Variable:           ValueNumeric   R-squared:                       0.048\n",
      "Model:                            OLS   Adj. R-squared:                  0.048\n",
      "Method:                 Least Squares   F-statistic:                     452.2\n",
      "Date:                Fri, 23 Jul 2021   Prob (F-statistic):          2.64e-192\n",
      "Time:                        16:36:53   Log-Likelihood:            -3.0332e+05\n",
      "No. Observations:               17907   AIC:                         6.066e+05\n",
      "Df Residuals:                   17904   BIC:                         6.067e+05\n",
      "Df Model:                           2                                         \n",
      "Covariance Type:            nonrobust                                         \n",
      "===============================================================================\n",
      "                  coef    std err          t      P>|t|      [0.025      0.975]\n",
      "-------------------------------------------------------------------------------\n",
      "const       -3.072e+06   1.97e+05    -15.576      0.000   -3.46e+06   -2.69e+06\n",
      "SprintSpeed  2.633e+04   3569.288      7.376      0.000    1.93e+04    3.33e+04\n",
      "Stamina      6.039e+04   3291.696     18.346      0.000    5.39e+04    6.68e+04\n",
      "==============================================================================\n",
      "Omnibus:                    22822.402   Durbin-Watson:                   0.187\n",
      "Prob(Omnibus):                  0.000   Jarque-Bera (JB):          4639541.011\n",
      "Skew:                           7.039   Prob(JB):                         0.00\n",
      "Kurtosis:                      80.588   Cond. No.                         444.\n",
      "==============================================================================\n",
      "\n",
      "Notes:\n",
      "[1] Standard Errors assume that the covariance matrix of the errors is correctly specified.\n"
     ]
    }
   ],
   "source": [
    "# Your conclusions here:\n",
    "\n",
    "modelo = sm.OLS(y, x).fit()\n",
    "print(modelo.summary())"
   ]
  },
  {
   "cell_type": "markdown",
   "metadata": {},
   "source": [
    "Next, create a second regression model predicting value using potential. Create the model using `statsmodels` and print the model summary. Remember to add a constant term."
   ]
  },
  {
   "cell_type": "code",
   "execution_count": 17,
   "metadata": {},
   "outputs": [],
   "source": [
    "# Your code here:\n",
    "\n",
    "x = sm.add_constant(fifa['Potential'])\n",
    "y = fifa['ValueNumeric']\n",
    "\n",
    "modelo = sm.OLS(y, x).fit() # Esto es la regresión lineal"
   ]
  },
  {
   "cell_type": "code",
   "execution_count": 18,
   "metadata": {},
   "outputs": [
    {
     "name": "stdout",
     "output_type": "stream",
     "text": [
      "                            OLS Regression Results                            \n",
      "==============================================================================\n",
      "Dep. Variable:           ValueNumeric   R-squared:                       0.336\n",
      "Model:                            OLS   Adj. R-squared:                  0.336\n",
      "Method:                 Least Squares   F-statistic:                     9073.\n",
      "Date:                Fri, 23 Jul 2021   Prob (F-statistic):               0.00\n",
      "Time:                        16:36:53   Log-Likelihood:            -3.0009e+05\n",
      "No. Observations:               17907   AIC:                         6.002e+05\n",
      "Df Residuals:                   17905   BIC:                         6.002e+05\n",
      "Df Model:                           1                                         \n",
      "Covariance Type:            nonrobust                                         \n",
      "==============================================================================\n",
      "                 coef    std err          t      P>|t|      [0.025      0.975]\n",
      "------------------------------------------------------------------------------\n",
      "const      -3.552e+07      4e+05    -88.778      0.000   -3.63e+07   -3.47e+07\n",
      "Potential   5.323e+05   5588.269     95.252      0.000    5.21e+05    5.43e+05\n",
      "==============================================================================\n",
      "Omnibus:                    23011.631   Durbin-Watson:                   0.551\n",
      "Prob(Omnibus):                  0.000   Jarque-Bera (JB):          6334620.314\n",
      "Skew:                           7.010   Prob(JB):                         0.00\n",
      "Kurtosis:                      94.068   Cond. No.                         835.\n",
      "==============================================================================\n",
      "\n",
      "Notes:\n",
      "[1] Standard Errors assume that the covariance matrix of the errors is correctly specified.\n"
     ]
    }
   ],
   "source": [
    "modelo = sm.OLS(y, x).fit()\n",
    "print(modelo.summary())"
   ]
  },
  {
   "cell_type": "code",
   "execution_count": 19,
   "metadata": {},
   "outputs": [
    {
     "data": {
      "text/html": [
       "<div>\n",
       "<style scoped>\n",
       "    .dataframe tbody tr th:only-of-type {\n",
       "        vertical-align: middle;\n",
       "    }\n",
       "\n",
       "    .dataframe tbody tr th {\n",
       "        vertical-align: top;\n",
       "    }\n",
       "\n",
       "    .dataframe thead th {\n",
       "        text-align: right;\n",
       "    }\n",
       "</style>\n",
       "<table border=\"1\" class=\"dataframe\">\n",
       "  <thead>\n",
       "    <tr style=\"text-align: right;\">\n",
       "      <th></th>\n",
       "      <th>ValueNumericPrediction</th>\n",
       "    </tr>\n",
       "  </thead>\n",
       "  <tbody>\n",
       "    <tr>\n",
       "      <th>0</th>\n",
       "      <td>14514458.18934</td>\n",
       "    </tr>\n",
       "    <tr>\n",
       "      <th>1</th>\n",
       "      <td>14514458.18934</td>\n",
       "    </tr>\n",
       "    <tr>\n",
       "      <th>2</th>\n",
       "      <td>13982163.95639</td>\n",
       "    </tr>\n",
       "    <tr>\n",
       "      <th>3</th>\n",
       "      <td>13982163.95639</td>\n",
       "    </tr>\n",
       "    <tr>\n",
       "      <th>4</th>\n",
       "      <td>13449869.72344</td>\n",
       "    </tr>\n",
       "  </tbody>\n",
       "</table>\n",
       "</div>"
      ],
      "text/plain": [
       "   ValueNumericPrediction\n",
       "0          14514458.18934\n",
       "1          14514458.18934\n",
       "2          13982163.95639\n",
       "3          13982163.95639\n",
       "4          13449869.72344"
      ]
     },
     "execution_count": 19,
     "metadata": {},
     "output_type": "execute_result"
    }
   ],
   "source": [
    "pred = pd.DataFrame(modelo.predict(x)).rename(columns={0: 'ValueNumericPrediction'})\n",
    "pred.head()"
   ]
  },
  {
   "cell_type": "markdown",
   "metadata": {},
   "source": [
    "Report your findings from the model summary. In particular, report about the model as a whole using the F-test and how much variation is predicted by the model using the r squared."
   ]
  },
  {
   "cell_type": "markdown",
   "metadata": {},
   "source": [
    "##### Your conclusions here:\n",
    "\n",
    "R**2 is considerably far from ideal 1, indicating that the data do not have a linear relationship and one should be cautious while using this linear equation as it will have a considerable R."
   ]
  },
  {
   "cell_type": "markdown",
   "metadata": {},
   "source": [
    "Plot a scatter plot of value vs. potential. Do you see a linear relationship?"
   ]
  },
  {
   "cell_type": "code",
   "execution_count": 21,
   "metadata": {},
   "outputs": [
    {
     "data": {
      "image/png": "[encoded data removed]",
      "text/plain": [
       "<Figure size 432x288 with 1 Axes>"
      ]
     },
     "metadata": {},
     "output_type": "display_data"
    }
   ],
   "source": [
    "# Your code here:\n",
    "\n",
    "plt.scatter(fifa['Potential'], fifa['ValueNumeric'])\n",
    "plt.title(\"'ValueNumeric' vs. 'Potential' \")\n",
    "plt.xlabel('Potential')\n",
    "plt.ylabel('ValueNumeric')\n",
    "plt.show()"
   ]
  }
 ],
 "metadata": {
  "kernelspec": {
   "display_name": "Python 3",
   "language": "python",
   "name": "python3"
  },
  "language_info": {
   "codemirror_mode": {
    "name": "ipython",
    "version": 3
   },
   "file_extension": ".py",
   "mimetype": "text/x-python",
   "name": "python",
   "nbconvert_exporter": "python",
   "pygments_lexer": "ipython3",
   "version": "3.9.5"
  }
 },
 "nbformat": 4,
 "nbformat_minor": 2
}
