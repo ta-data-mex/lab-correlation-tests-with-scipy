{
 "cells": [
  {
   "cell_type": "code",
   "execution_count": null,
   "id": "6f4f20b0",
   "metadata": {},
   "outputs": [],
   "source": [
    "fifa['Value_Numeric'] = fifa['Value'].str.strip('€')\n",
    "\n",
    "for valor in fifa['Value_Numeric']:\n",
    "    if valor.endswith('K'):\n",
    "        nuevo_valor = valor.replace('K', '')\n",
    "        valor_float = float(nuevo_valor) * 1_000\n",
    "        print(valor_float)\n",
    "    else:\n",
    "        nuevo_valor = valor.replace('M', '')\n",
    "        valor_float = float(nuevo_valor) * 1_000_000\n",
    "       \n",
    "    print(valor_float)\n",
    "        "
   ]
  },
  {
   "cell_type": "code",
   "execution_count": null,
   "id": "094b3022",
   "metadata": {},
   "outputs": [],
   "source": [
    "def modificar_millones_miles(valor):\n",
    "    if valor.endswith('K'):\n",
    "        nuevo_valor = valor.replace('K', '')\n",
    "        valor_float = float(nuevo_valor) * 1_000\n",
    "        return valor_float\n",
    "    else:\n",
    "        nuevo_valor = valor.replace('M', '')\n",
    "        valor_float = float(nuevo_valor) * 1_000_000\n",
    "        return valor_float"
   ]
  },
  {
   "cell_type": "code",
   "execution_count": null,
   "id": "8bbcb810",
   "metadata": {},
   "outputs": [],
   "source": [
    "fifa['Value_Numeric'] = fifa['Value_Numeric'].apply(modificar_millones_miles)"
   ]
  }
 ],
 "metadata": {
  "kernelspec": {
   "display_name": "Python 3",
   "language": "python",
   "name": "python3"
  },
  "language_info": {
   "codemirror_mode": {
    "name": "ipython",
    "version": 3
   },
   "file_extension": ".py",
   "mimetype": "text/x-python",
   "name": "python",
   "nbconvert_exporter": "python",
   "pygments_lexer": "ipython3",
   "version": "3.8.8"
  }
 },
 "nbformat": 4,
 "nbformat_minor": 5
}
