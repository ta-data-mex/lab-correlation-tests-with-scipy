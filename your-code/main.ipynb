{
 "cells": [
  {
   "cell_type": "markdown",
   "metadata": {},
   "source": [
    "# Before your start:\n",
    "- Read the README.md file\n",
    "- Comment as much as you can and use the resources (README.md file)\n",
    "- Happy learning!"
   ]
  },
  {
   "cell_type": "code",
   "execution_count": 1,
   "metadata": {},
   "outputs": [],
   "source": [
    "%matplotlib inline\n",
    "# import numpy and pandas\n",
    "import numpy as np\n",
    "import pandas as pd"
   ]
  },
  {
   "cell_type": "markdown",
   "metadata": {},
   "source": [
    "# Challenge 1 - Analysis of Variance\n",
    "\n",
    "In this part of the lesson, we will perform an analysis of variance to determine whether the factors in our model create a significant difference in the group means. We will be examining a dataset of FIFA players. We'll start by loading the data using the code in the cell below."
   ]
  },
  {
   "cell_type": "code",
   "execution_count": 2,
   "metadata": {},
   "outputs": [],
   "source": [
    "# Run this code:\n",
    "fifa = pd.read_csv('fifa.csv')"
   ]
  },
  {
   "cell_type": "markdown",
   "metadata": {},
   "source": [
    "Let's examine the dataset by looking at the `head`."
   ]
  },
  {
   "cell_type": "code",
   "execution_count": 3,
   "metadata": {
    "scrolled": true
   },
   "outputs": [
    {
     "data": {
      "text/html": [
       "<div>\n",
       "<style scoped>\n",
       "    .dataframe tbody tr th:only-of-type {\n",
       "        vertical-align: middle;\n",
       "    }\n",
       "\n",
       "    .dataframe tbody tr th {\n",
       "        vertical-align: top;\n",
       "    }\n",
       "\n",
       "    .dataframe thead th {\n",
       "        text-align: right;\n",
       "    }\n",
       "</style>\n",
       "<table border=\"1\" class=\"dataframe\">\n",
       "  <thead>\n",
       "    <tr style=\"text-align: right;\">\n",
       "      <th></th>\n",
       "      <th>Name</th>\n",
       "      <th>Age</th>\n",
       "      <th>Nationality</th>\n",
       "      <th>Overall</th>\n",
       "      <th>Potential</th>\n",
       "      <th>Club</th>\n",
       "      <th>Value</th>\n",
       "      <th>Preferred Foot</th>\n",
       "      <th>Position</th>\n",
       "      <th>Weak Foot</th>\n",
       "      <th>Acceleration</th>\n",
       "      <th>SprintSpeed</th>\n",
       "      <th>Stamina</th>\n",
       "      <th>Strength</th>\n",
       "      <th>LongShots</th>\n",
       "      <th>Aggression</th>\n",
       "      <th>Interceptions</th>\n",
       "      <th>Positioning</th>\n",
       "      <th>Vision</th>\n",
       "      <th>Penalties</th>\n",
       "    </tr>\n",
       "  </thead>\n",
       "  <tbody>\n",
       "    <tr>\n",
       "      <th>0</th>\n",
       "      <td>L. Messi</td>\n",
       "      <td>31</td>\n",
       "      <td>Argentina</td>\n",
       "      <td>94</td>\n",
       "      <td>94</td>\n",
       "      <td>FC Barcelona</td>\n",
       "      <td>€110.5M</td>\n",
       "      <td>Left</td>\n",
       "      <td>RF</td>\n",
       "      <td>4.0</td>\n",
       "      <td>91.0</td>\n",
       "      <td>86.0</td>\n",
       "      <td>72.0</td>\n",
       "      <td>59.0</td>\n",
       "      <td>94.0</td>\n",
       "      <td>48.0</td>\n",
       "      <td>22.0</td>\n",
       "      <td>94.0</td>\n",
       "      <td>94.0</td>\n",
       "      <td>75.0</td>\n",
       "    </tr>\n",
       "    <tr>\n",
       "      <th>1</th>\n",
       "      <td>Cristiano Ronaldo</td>\n",
       "      <td>33</td>\n",
       "      <td>Portugal</td>\n",
       "      <td>94</td>\n",
       "      <td>94</td>\n",
       "      <td>Juventus</td>\n",
       "      <td>€77M</td>\n",
       "      <td>Right</td>\n",
       "      <td>ST</td>\n",
       "      <td>4.0</td>\n",
       "      <td>89.0</td>\n",
       "      <td>91.0</td>\n",
       "      <td>88.0</td>\n",
       "      <td>79.0</td>\n",
       "      <td>93.0</td>\n",
       "      <td>63.0</td>\n",
       "      <td>29.0</td>\n",
       "      <td>95.0</td>\n",
       "      <td>82.0</td>\n",
       "      <td>85.0</td>\n",
       "    </tr>\n",
       "    <tr>\n",
       "      <th>2</th>\n",
       "      <td>Neymar Jr</td>\n",
       "      <td>26</td>\n",
       "      <td>Brazil</td>\n",
       "      <td>92</td>\n",
       "      <td>93</td>\n",
       "      <td>Paris Saint-Germain</td>\n",
       "      <td>€118.5M</td>\n",
       "      <td>Right</td>\n",
       "      <td>LW</td>\n",
       "      <td>5.0</td>\n",
       "      <td>94.0</td>\n",
       "      <td>90.0</td>\n",
       "      <td>81.0</td>\n",
       "      <td>49.0</td>\n",
       "      <td>82.0</td>\n",
       "      <td>56.0</td>\n",
       "      <td>36.0</td>\n",
       "      <td>89.0</td>\n",
       "      <td>87.0</td>\n",
       "      <td>81.0</td>\n",
       "    </tr>\n",
       "    <tr>\n",
       "      <th>3</th>\n",
       "      <td>De Gea</td>\n",
       "      <td>27</td>\n",
       "      <td>Spain</td>\n",
       "      <td>91</td>\n",
       "      <td>93</td>\n",
       "      <td>Manchester United</td>\n",
       "      <td>€72M</td>\n",
       "      <td>Right</td>\n",
       "      <td>GK</td>\n",
       "      <td>3.0</td>\n",
       "      <td>57.0</td>\n",
       "      <td>58.0</td>\n",
       "      <td>43.0</td>\n",
       "      <td>64.0</td>\n",
       "      <td>12.0</td>\n",
       "      <td>38.0</td>\n",
       "      <td>30.0</td>\n",
       "      <td>12.0</td>\n",
       "      <td>68.0</td>\n",
       "      <td>40.0</td>\n",
       "    </tr>\n",
       "    <tr>\n",
       "      <th>4</th>\n",
       "      <td>K. De Bruyne</td>\n",
       "      <td>27</td>\n",
       "      <td>Belgium</td>\n",
       "      <td>91</td>\n",
       "      <td>92</td>\n",
       "      <td>Manchester City</td>\n",
       "      <td>€102M</td>\n",
       "      <td>Right</td>\n",
       "      <td>RCM</td>\n",
       "      <td>5.0</td>\n",
       "      <td>78.0</td>\n",
       "      <td>76.0</td>\n",
       "      <td>90.0</td>\n",
       "      <td>75.0</td>\n",
       "      <td>91.0</td>\n",
       "      <td>76.0</td>\n",
       "      <td>61.0</td>\n",
       "      <td>87.0</td>\n",
       "      <td>94.0</td>\n",
       "      <td>79.0</td>\n",
       "    </tr>\n",
       "  </tbody>\n",
       "</table>\n",
       "</div>"
      ],
      "text/plain": [
       "                Name  Age Nationality  Overall  Potential  \\\n",
       "0           L. Messi   31   Argentina       94         94   \n",
       "1  Cristiano Ronaldo   33    Portugal       94         94   \n",
       "2          Neymar Jr   26      Brazil       92         93   \n",
       "3             De Gea   27       Spain       91         93   \n",
       "4       K. De Bruyne   27     Belgium       91         92   \n",
       "\n",
       "                  Club    Value Preferred Foot Position  Weak Foot  \\\n",
       "0         FC Barcelona  €110.5M           Left       RF        4.0   \n",
       "1             Juventus     €77M          Right       ST        4.0   \n",
       "2  Paris Saint-Germain  €118.5M          Right       LW        5.0   \n",
       "3    Manchester United     €72M          Right       GK        3.0   \n",
       "4      Manchester City    €102M          Right      RCM        5.0   \n",
       "\n",
       "   Acceleration  SprintSpeed  Stamina  Strength  LongShots  Aggression  \\\n",
       "0          91.0         86.0     72.0      59.0       94.0        48.0   \n",
       "1          89.0         91.0     88.0      79.0       93.0        63.0   \n",
       "2          94.0         90.0     81.0      49.0       82.0        56.0   \n",
       "3          57.0         58.0     43.0      64.0       12.0        38.0   \n",
       "4          78.0         76.0     90.0      75.0       91.0        76.0   \n",
       "\n",
       "   Interceptions  Positioning  Vision  Penalties  \n",
       "0           22.0         94.0    94.0       75.0  \n",
       "1           29.0         95.0    82.0       85.0  \n",
       "2           36.0         89.0    87.0       81.0  \n",
       "3           30.0         12.0    68.0       40.0  \n",
       "4           61.0         87.0    94.0       79.0  "
      ]
     },
     "execution_count": 3,
     "metadata": {},
     "output_type": "execute_result"
    }
   ],
   "source": [
    "# Your code here:\n",
    "fifa.head()"
   ]
  },
  {
   "cell_type": "markdown",
   "metadata": {},
   "source": [
    "Player's values are expressed in millions of euros. We would like this column to be numeric. Therefore, let's create a numeric value column. Do this by stripping all non-numeric characters from each cell. Assign this new data to `ValueNumeric`. There is no need to multiply the value to be expressed in millions. "
   ]
  },
  {
   "cell_type": "code",
   "execution_count": 8,
   "metadata": {},
   "outputs": [],
   "source": [
    "# Your code here:\n",
    "fifa['ValueNumeric'] = fifa.Value.map(lambda x: float(x.lstrip('€').rstrip('M').rstrip('K')))"
   ]
  },
  {
   "cell_type": "markdown",
   "metadata": {},
   "source": [
    "#### We'd like to determine whether a player's preffered foot and position have an impact on their value. \n",
    "\n",
    "Using the `statsmodels` library, we are able to produce an ANOVA table without munging our data. Create an ANOVA table with value as a function of position and preferred foot. Recall that pivoting is performed by the `C` function.\n",
    "\n",
    "Hint: For columns that have a space in their name, it is best to refer to the column using the dataframe (For example: for column `A`, we will use `df['A']`)."
   ]
  },
  {
   "cell_type": "code",
   "execution_count": 9,
   "metadata": {},
   "outputs": [],
   "source": [
    "# Your code here:\n",
    "import statsmodels.api as sm\n",
    "from statsmodels.formula.api import ols"
   ]
  },
  {
   "cell_type": "code",
   "execution_count": 19,
   "metadata": {},
   "outputs": [
    {
     "name": "stdout",
     "output_type": "stream",
     "text": [
      "                            OLS Regression Results                            \n",
      "==============================================================================\n",
      "Dep. Variable:           ValueNumeric   R-squared:                       0.008\n",
      "Model:                            OLS   Adj. R-squared:                  0.005\n",
      "Method:                 Least Squares   F-statistic:                     2.738\n",
      "Date:                Wed, 31 Jul 2019   Prob (F-statistic):           1.90e-10\n",
      "Time:                        16:14:26   Log-Likelihood:            -1.2856e+05\n",
      "No. Observations:               18147   AIC:                         2.572e+05\n",
      "Df Residuals:                   18093   BIC:                         2.576e+05\n",
      "Df Model:                          53                                         \n",
      "Covariance Type:            nonrobust                                         \n",
      "==================================================================================================================\n",
      "                                                     coef    std err          t      P>|t|      [0.025      0.975]\n",
      "------------------------------------------------------------------------------------------------------------------\n",
      "Intercept                                        237.4832     18.071     13.142      0.000     202.063     272.904\n",
      "C(fifa[\"Preferred Foot\"]+Position)[T.LeftCB]      83.7432     23.910      3.502      0.000      36.877     130.610\n",
      "C(fifa[\"Preferred Foot\"]+Position)[T.LeftCDM]     65.5803     31.465      2.084      0.037       3.907     127.254\n",
      "C(fifa[\"Preferred Foot\"]+Position)[T.LeftCF]     122.5057     70.504      1.738      0.082     -15.690     260.701\n",
      "C(fifa[\"Preferred Foot\"]+Position)[T.LeftCM]      37.1951     25.735      1.445      0.148     -13.248      87.638\n",
      "C(fifa[\"Preferred Foot\"]+Position)[T.LeftGK]     -11.1531     27.062     -0.412      0.680     -64.198      41.892\n",
      "C(fifa[\"Preferred Foot\"]+Position)[T.LeftLAM]   -225.0165     98.057     -2.295      0.022    -417.218     -32.816\n",
      "C(fifa[\"Preferred Foot\"]+Position)[T.LeftLB]      56.4792     19.961      2.830      0.005      17.354      95.604\n",
      "C(fifa[\"Preferred Foot\"]+Position)[T.LeftLCB]     35.2611     25.362      1.390      0.164     -14.450      84.972\n",
      "C(fifa[\"Preferred Foot\"]+Position)[T.LeftLCM]    -55.3337     34.473     -1.605      0.108    -122.904      12.237\n",
      "C(fifa[\"Preferred Foot\"]+Position)[T.LeftLDM]      5.5984     45.085      0.124      0.901     -82.772      93.969\n",
      "C(fifa[\"Preferred Foot\"]+Position)[T.LeftLF]     -63.1499    167.906     -0.376      0.707    -392.261     265.962\n",
      "C(fifa[\"Preferred Foot\"]+Position)[T.LeftLM]      51.5954     23.010      2.242      0.025       6.494      96.697\n",
      "C(fifa[\"Preferred Foot\"]+Position)[T.LeftLS]     -94.8771     53.477     -1.774      0.076    -199.698       9.943\n",
      "C(fifa[\"Preferred Foot\"]+Position)[T.LeftLW]      31.5452     33.068      0.954      0.340     -33.271      96.362\n",
      "C(fifa[\"Preferred Foot\"]+Position)[T.LeftLWB]     23.4168     39.915      0.587      0.557     -54.820     101.653\n",
      "C(fifa[\"Preferred Foot\"]+Position)[T.LeftRAM]   -139.9499     98.057     -1.427      0.154    -332.151      52.251\n",
      "C(fifa[\"Preferred Foot\"]+Position)[T.LeftRB]      79.8739     79.359      1.006      0.314     -75.677     235.425\n",
      "C(fifa[\"Preferred Foot\"]+Position)[T.LeftRCB]     16.1043     54.212      0.297      0.766     -90.157     122.366\n",
      "C(fifa[\"Preferred Foot\"]+Position)[T.LeftRCM]     32.9631     48.637      0.678      0.498     -62.369     128.295\n",
      "C(fifa[\"Preferred Foot\"]+Position)[T.LeftRDM]     17.4951     62.938      0.278      0.781    -105.870     140.860\n",
      "C(fifa[\"Preferred Foot\"]+Position)[T.LeftRF]     -38.3165    119.413     -0.321      0.748    -272.377     195.744\n",
      "C(fifa[\"Preferred Foot\"]+Position)[T.LeftRM]       9.6029     25.657      0.374      0.708     -40.688      59.893\n",
      "C(fifa[\"Preferred Foot\"]+Position)[T.LeftRS]     -30.8237     50.852     -0.606      0.544    -130.499      68.851\n",
      "C(fifa[\"Preferred Foot\"]+Position)[T.LeftRW]     -54.7956     34.473     -1.590      0.112    -122.366      12.775\n",
      "C(fifa[\"Preferred Foot\"]+Position)[T.LeftRWB]    143.7668    145.691      0.987      0.324    -141.802     429.336\n",
      "C(fifa[\"Preferred Foot\"]+Position)[T.LeftST]      41.7199     24.736      1.687      0.092      -6.765      90.205\n",
      "C(fifa[\"Preferred Foot\"]+Position)[T.RightCAM]    13.0998     21.110      0.621      0.535     -28.278      54.478\n",
      "C(fifa[\"Preferred Foot\"]+Position)[T.RightCB]     46.9670     19.614      2.395      0.017       8.521      85.413\n",
      "C(fifa[\"Preferred Foot\"]+Position)[T.RightCDM]    47.7105     20.694      2.305      0.021       7.148      88.273\n",
      "C(fifa[\"Preferred Foot\"]+Position)[T.RightCF]     -9.9243     42.654     -0.233      0.816     -93.530      73.682\n",
      "C(fifa[\"Preferred Foot\"]+Position)[T.RightCM]     26.2010     19.989      1.311      0.190     -12.980      65.382\n",
      "C(fifa[\"Preferred Foot\"]+Position)[T.RightGK]     -2.8534     19.301     -0.148      0.882     -40.684      34.977\n",
      "C(fifa[\"Preferred Foot\"]+Position)[T.RightLAM]   -71.7999     85.399     -0.841      0.400    -239.190      95.591\n",
      "C(fifa[\"Preferred Foot\"]+Position)[T.RightLB]     32.2363     29.195      1.104      0.270     -24.988      89.460\n",
      "C(fifa[\"Preferred Foot\"]+Position)[T.RightLCB]     2.4098     23.329      0.103      0.918     -43.318      48.137\n",
      "C(fifa[\"Preferred Foot\"]+Position)[T.RightLCM]    11.4963     24.639      0.467      0.641     -36.799      59.791\n",
      "C(fifa[\"Preferred Foot\"]+Position)[T.RightLDM]    29.5194     27.522      1.073      0.283     -24.427      83.465\n",
      "C(fifa[\"Preferred Foot\"]+Position)[T.RightLF]   -143.0749     85.399     -1.675      0.094    -310.465      24.316\n",
      "C(fifa[\"Preferred Foot\"]+Position)[T.RightLM]     17.2726     21.188      0.815      0.415     -24.259      58.804\n",
      "C(fifa[\"Preferred Foot\"]+Position)[T.RightLS]     -1.1958     28.408     -0.042      0.966     -56.878      54.486\n",
      "C(fifa[\"Preferred Foot\"]+Position)[T.RightLW]     24.1591     25.177      0.960      0.337     -25.191      73.509\n",
      "C(fifa[\"Preferred Foot\"]+Position)[T.RightLWB]   -29.0915     85.399     -0.341      0.733    -196.482     138.299\n",
      "C(fifa[\"Preferred Foot\"]+Position)[T.RightRAM]  -116.0749     85.399     -1.359      0.174    -283.465      51.316\n",
      "C(fifa[\"Preferred Foot\"]+Position)[T.RightRB]     48.9130     19.799      2.470      0.014      10.104      87.722\n",
      "C(fifa[\"Preferred Foot\"]+Position)[T.RightRCB]    24.4539     21.430      1.141      0.254     -17.551      66.459\n",
      "C(fifa[\"Preferred Foot\"]+Position)[T.RightRCM]    -0.8786     23.778     -0.037      0.971     -47.486      45.729\n",
      "C(fifa[\"Preferred Foot\"]+Position)[T.RightRDM]    -8.3659     26.422     -0.317      0.752     -60.155      43.423\n",
      "C(fifa[\"Preferred Foot\"]+Position)[T.RightRF]   -167.5532     93.200     -1.798      0.072    -350.235      15.128\n",
      "C(fifa[\"Preferred Foot\"]+Position)[T.RightRM]     34.1207     20.553      1.660      0.097      -6.165      74.406\n",
      "C(fifa[\"Preferred Foot\"]+Position)[T.RightRS]      9.3843     28.812      0.326      0.745     -47.091      65.859\n",
      "C(fifa[\"Preferred Foot\"]+Position)[T.RightRW]     45.7912     25.155      1.820      0.069      -3.515      95.097\n",
      "C(fifa[\"Preferred Foot\"]+Position)[T.RightRWB]    34.4481     36.521      0.943      0.346     -37.136     106.032\n",
      "C(fifa[\"Preferred Foot\"]+Position)[T.RightST]     33.0306     19.275      1.714      0.087      -4.750      70.811\n",
      "==============================================================================\n",
      "Omnibus:                     2024.251   Durbin-Watson:                   1.001\n",
      "Prob(Omnibus):                  0.000   Jarque-Bera (JB):             2314.314\n",
      "Skew:                           0.834   Prob(JB):                         0.00\n",
      "Kurtosis:                       2.473   Cond. No.                         81.3\n",
      "==============================================================================\n",
      "\n",
      "Warnings:\n",
      "[1] Standard Errors assume that the covariance matrix of the errors is correctly specified.\n"
     ]
    }
   ],
   "source": [
    "model = ols('ValueNumeric ~ C(fifa[\"Preferred Foot\"] + Position)', data=fifa).fit()\n",
    "print(model.summary())"
   ]
  },
  {
   "cell_type": "code",
   "execution_count": 22,
   "metadata": {},
   "outputs": [
    {
     "data": {
      "text/html": [
       "<div>\n",
       "<style scoped>\n",
       "    .dataframe tbody tr th:only-of-type {\n",
       "        vertical-align: middle;\n",
       "    }\n",
       "\n",
       "    .dataframe tbody tr th {\n",
       "        vertical-align: top;\n",
       "    }\n",
       "\n",
       "    .dataframe thead th {\n",
       "        text-align: right;\n",
       "    }\n",
       "</style>\n",
       "<table border=\"1\" class=\"dataframe\">\n",
       "  <thead>\n",
       "    <tr style=\"text-align: right;\">\n",
       "      <th></th>\n",
       "      <th>sum_sq</th>\n",
       "      <th>df</th>\n",
       "      <th>F</th>\n",
       "      <th>PR(&gt;F)</th>\n",
       "    </tr>\n",
       "  </thead>\n",
       "  <tbody>\n",
       "    <tr>\n",
       "      <th>C(fifa[\"Preferred Foot\"]+Position)</th>\n",
       "      <td>1.213003e+07</td>\n",
       "      <td>53.0</td>\n",
       "      <td>2.737742</td>\n",
       "      <td>1.900519e-10</td>\n",
       "    </tr>\n",
       "    <tr>\n",
       "      <th>Residual</th>\n",
       "      <td>1.512530e+09</td>\n",
       "      <td>18093.0</td>\n",
       "      <td>NaN</td>\n",
       "      <td>NaN</td>\n",
       "    </tr>\n",
       "  </tbody>\n",
       "</table>\n",
       "</div>"
      ],
      "text/plain": [
       "                                          sum_sq       df         F  \\\n",
       "C(fifa[\"Preferred Foot\"]+Position)  1.213003e+07     53.0  2.737742   \n",
       "Residual                            1.512530e+09  18093.0       NaN   \n",
       "\n",
       "                                          PR(>F)  \n",
       "C(fifa[\"Preferred Foot\"]+Position)  1.900519e-10  \n",
       "Residual                                     NaN  "
      ]
     },
     "execution_count": 22,
     "metadata": {},
     "output_type": "execute_result"
    }
   ],
   "source": [
    "anova = sm.stats.anova_lm(model, typ=2)\n",
    "anova"
   ]
  },
  {
   "cell_type": "markdown",
   "metadata": {},
   "source": [
    "What is your conclusion from this ANOVA?"
   ]
  },
  {
   "cell_type": "code",
   "execution_count": 23,
   "metadata": {},
   "outputs": [],
   "source": [
    "# Your conclusions here:\n",
    "# The p-value (1.9e-10) is less than 0.05, thus Ho is rejected, meaning that there is no correlation between the preffered\n",
    "# foot and position to the value of each player."
   ]
  },
  {
   "cell_type": "markdown",
   "metadata": {},
   "source": [
    "After looking at a model of both preffered foot and position, we decide to create an ANOVA table for nationality. Create an ANOVA table for numeric value as a function of nationality."
   ]
  },
  {
   "cell_type": "code",
   "execution_count": 24,
   "metadata": {},
   "outputs": [
    {
     "name": "stdout",
     "output_type": "stream",
     "text": [
      "                            OLS Regression Results                            \n",
      "==============================================================================\n",
      "Dep. Variable:           ValueNumeric   R-squared:                       0.028\n",
      "Model:                            OLS   Adj. R-squared:                  0.019\n",
      "Method:                 Least Squares   F-statistic:                     3.203\n",
      "Date:                Wed, 31 Jul 2019   Prob (F-statistic):           1.98e-38\n",
      "Time:                        16:34:13   Log-Likelihood:            -1.2878e+05\n",
      "No. Observations:               18207   AIC:                         2.579e+05\n",
      "Df Residuals:                   18043   BIC:                         2.592e+05\n",
      "Df Model:                         163                                         \n",
      "Covariance Type:            nonrobust                                         \n",
      "==========================================================================================================\n",
      "                                             coef    std err          t      P>|t|      [0.025      0.975]\n",
      "----------------------------------------------------------------------------------------------------------\n",
      "Intercept                                342.5000    143.375      2.389      0.017      61.470     623.530\n",
      "C(Nationality)[T.Albania]                -48.1225    150.373     -0.320      0.749    -342.869     246.624\n",
      "C(Nationality)[T.Algeria]               -110.4733    148.078     -0.746      0.456    -400.719     179.773\n",
      "C(Nationality)[T.Andorra]                -52.5000    320.597     -0.164      0.870    -680.901     575.901\n",
      "C(Nationality)[T.Angola]                 -35.7867    161.364     -0.222      0.824    -352.075     280.502\n",
      "C(Nationality)[T.Antigua & Barbuda]     -132.1750    202.763     -0.652      0.514    -529.611     265.261\n",
      "C(Nationality)[T.Argentina]             -109.1732    143.681     -0.760      0.447    -390.802     172.456\n",
      "C(Nationality)[T.Armenia]                 98.2800    169.644      0.579      0.562    -234.239     430.799\n",
      "C(Nationality)[T.Australia]              -40.2640    144.585     -0.278      0.781    -323.665     243.137\n",
      "C(Nationality)[T.Austria]                -34.5537    144.334     -0.239      0.811    -317.463     248.356\n",
      "C(Nationality)[T.Azerbaijan]             176.5000    192.358      0.918      0.359    -200.541     553.541\n",
      "C(Nationality)[T.Barbados]                59.1667    219.010      0.270      0.787    -370.113     488.446\n",
      "C(Nationality)[T.Belarus]                 78.2750    202.763      0.386      0.699    -319.161     475.711\n",
      "C(Nationality)[T.Belgium]                -66.8600    144.474     -0.463      0.644    -350.043     216.323\n",
      "C(Nationality)[T.Belize]                 -92.5000    320.597     -0.289      0.773    -720.901     535.901\n",
      "C(Nationality)[T.Benin]                  -54.8067    161.364     -0.340      0.734    -371.095     261.482\n",
      "C(Nationality)[T.Bermuda]               -154.1000    248.334     -0.621      0.535    -640.857     332.657\n",
      "C(Nationality)[T.Bolivia]               -259.9500    152.635     -1.703      0.089    -559.129      39.229\n",
      "C(Nationality)[T.Bosnia Herzegovina]    -143.5213    148.002     -0.970      0.332    -433.619     146.576\n",
      "C(Nationality)[T.Botswana]              -182.5000    320.597     -0.569      0.569    -810.901     445.901\n",
      "C(Nationality)[T.Brazil]                -147.4290    143.722     -1.026      0.305    -429.137     134.279\n",
      "C(Nationality)[T.Bulgaria]              -273.9000    152.073     -1.801      0.072    -571.977      24.177\n",
      "C(Nationality)[T.Burkina Faso]            28.7688    160.299      0.179      0.858    -285.432     342.969\n",
      "C(Nationality)[T.Burundi]               -139.7667    219.010     -0.638      0.523    -569.046     289.513\n",
      "C(Nationality)[T.Cameroon]              -123.9689    146.527     -0.846      0.398    -411.176     163.238\n",
      "C(Nationality)[T.Canada]                 -67.4734    147.788     -0.457      0.648    -357.152     222.205\n",
      "C(Nationality)[T.Cape Verde]            -138.0105    157.747     -0.875      0.382    -447.210     171.189\n",
      "C(Nationality)[T.Central African Rep.]   -16.1000    219.010     -0.074      0.941    -445.380     413.180\n",
      "C(Nationality)[T.Chad]                  -339.1000    248.334     -1.366      0.172    -825.857     147.657\n",
      "C(Nationality)[T.Chile]                  -49.4284    144.107     -0.343      0.732    -331.892     233.035\n",
      "C(Nationality)[T.China PR]              -103.0344    144.105     -0.715      0.475    -385.494     179.425\n",
      "C(Nationality)[T.Colombia]               -51.9820    143.839     -0.361      0.718    -333.920     229.956\n",
      "C(Nationality)[T.Comoros]                -66.3833    185.097     -0.359      0.720    -429.191     296.424\n",
      "C(Nationality)[T.Congo]                  -55.4080    154.420     -0.359      0.720    -358.086     247.270\n",
      "C(Nationality)[T.Costa Rica]               4.0667    152.635      0.027      0.979    -295.112     303.245\n",
      "C(Nationality)[T.Croatia]               -142.9865    145.633     -0.982      0.326    -428.442     142.469\n",
      "C(Nationality)[T.Cuba]                    46.1000    202.763      0.227      0.820    -351.336     443.536\n",
      "C(Nationality)[T.Curacao]               -113.9357    162.572     -0.701      0.483    -432.593     204.722\n",
      "C(Nationality)[T.Cyprus]                 -28.4500    175.598     -0.162      0.871    -372.639     315.739\n",
      "C(Nationality)[T.Czech Republic]        -109.6930    146.215     -0.750      0.453    -396.288     176.902\n",
      "C(Nationality)[T.DR Congo]               -94.4885    148.788     -0.635      0.525    -386.127     197.150\n",
      "C(Nationality)[T.Denmark]                -47.9997    144.226     -0.333      0.739    -330.697     234.698\n",
      "C(Nationality)[T.Dominican Republic]      67.5000    248.334      0.272      0.786    -419.257     554.257\n",
      "C(Nationality)[T.Ecuador]               -178.4651    149.896     -1.191      0.234    -472.275     115.345\n",
      "C(Nationality)[T.Egypt]                 -193.9935    152.345     -1.273      0.203    -492.604     104.617\n",
      "C(Nationality)[T.El Salvador]            -66.9800    192.358     -0.348      0.728    -444.021     310.061\n",
      "C(Nationality)[T.England]                -53.3139    143.548     -0.371      0.710    -334.681     228.054\n",
      "C(Nationality)[T.Equatorial Guinea]     -249.8000    192.358     -1.299      0.194    -626.841     127.241\n",
      "C(Nationality)[T.Eritrea]               -104.0000    248.334     -0.419      0.675    -590.757     382.757\n",
      "C(Nationality)[T.Estonia]                 65.5769    163.956      0.400      0.689    -255.793     386.946\n",
      "C(Nationality)[T.Ethiopia]               -92.5000    320.597     -0.289      0.773    -720.901     535.901\n",
      "C(Nationality)[T.FYR Macedonia]         -151.1600    157.060     -0.962      0.336    -459.012     156.692\n",
      "C(Nationality)[T.Faroe Islands]          184.1667    185.097      0.995      0.320    -178.641     546.974\n",
      "C(Nationality)[T.Fiji]                  -340.2000    320.597     -1.061      0.289    -968.601     288.201\n",
      "C(Nationality)[T.Finland]                -55.5104    147.593     -0.376      0.707    -344.807     233.786\n",
      "C(Nationality)[T.France]                 -90.7589    143.689     -0.632      0.528    -372.403     190.885\n",
      "C(Nationality)[T.Gabon]                  -87.7867    161.364     -0.544      0.586    -404.075     228.502\n",
      "C(Nationality)[T.Gambia]                 -96.0467    161.364     -0.595      0.552    -412.335     220.242\n",
      "C(Nationality)[T.Georgia]                -33.6154    154.010     -0.218      0.827    -335.490     268.259\n",
      "C(Nationality)[T.Germany]                -30.5058    143.615     -0.212      0.832    -312.004     250.992\n",
      "C(Nationality)[T.Ghana]                 -113.2895    145.869     -0.777      0.437    -399.207     172.628\n",
      "C(Nationality)[T.Greece]                -117.1882    146.160     -0.802      0.423    -403.675     169.299\n",
      "C(Nationality)[T.Grenada]                 82.5000    320.597      0.257      0.797    -545.901     710.901\n",
      "C(Nationality)[T.Guam]                   207.5000    320.597      0.647      0.517    -420.901     835.901\n",
      "C(Nationality)[T.Guatemala]               72.5000    219.010      0.331      0.741    -356.780     501.780\n",
      "C(Nationality)[T.Guinea]                -106.5677    152.345     -0.700      0.484    -405.178     192.043\n",
      "C(Nationality)[T.Guinea Bissau]          -45.9067    161.364     -0.284      0.776    -362.195     270.382\n",
      "C(Nationality)[T.Guyana]                 -65.8333    219.010     -0.301      0.764    -495.113     363.446\n",
      "C(Nationality)[T.Haiti]                  -43.3700    169.644     -0.256      0.798    -375.889     289.149\n",
      "C(Nationality)[T.Honduras]              -156.7187    160.299     -0.978      0.328    -470.919     157.482\n",
      "C(Nationality)[T.Hong Kong]             -197.5000    248.334     -0.795      0.426    -684.257     289.257\n",
      "C(Nationality)[T.Hungary]               -219.5395    150.733     -1.456      0.145    -514.990      75.911\n",
      "C(Nationality)[T.Iceland]               -130.0085    149.352     -0.870      0.384    -422.753     162.736\n",
      "C(Nationality)[T.India]                 -342.5000    152.635     -2.244      0.025    -641.679     -43.321\n",
      "C(Nationality)[T.Indonesia]             -162.5000    320.597     -0.507      0.612    -790.901     465.901\n",
      "C(Nationality)[T.Iran]                  -118.0353    159.353     -0.741      0.459    -430.382     194.312\n",
      "C(Nationality)[T.Iraq]                  -179.5000    179.731     -0.999      0.318    -531.789     172.789\n",
      "C(Nationality)[T.Israel]                -247.3286    162.572     -1.521      0.128    -565.986      71.329\n",
      "C(Nationality)[T.Italy]                  -60.9634    143.783     -0.424      0.672    -342.792     220.866\n",
      "C(Nationality)[T.Ivory Coast]           -146.0330    146.215     -0.999      0.318    -432.628     140.562\n",
      "C(Nationality)[T.Jamaica]                  7.3344    152.073      0.048      0.962    -290.742     305.411\n",
      "C(Nationality)[T.Japan]                  -63.4533    143.974     -0.441      0.659    -345.656     218.750\n",
      "C(Nationality)[T.Jordan]                  82.5000    320.597      0.257      0.797    -545.901     710.901\n",
      "C(Nationality)[T.Kazakhstan]             -29.7250    202.763     -0.147      0.883    -427.161     367.711\n",
      "C(Nationality)[T.Kenya]                   30.3900    169.644      0.179      0.858    -302.129     362.909\n",
      "C(Nationality)[T.Korea DPR]             -166.7250    202.763     -0.822      0.411    -564.161     230.711\n",
      "C(Nationality)[T.Korea Republic]          -0.8657    144.229     -0.006      0.995    -283.568     281.837\n",
      "C(Nationality)[T.Kosovo]                -174.1576    151.816     -1.147      0.251    -471.732     123.417\n",
      "C(Nationality)[T.Kuwait]                -341.3000    320.597     -1.065      0.287    -969.701     287.101\n",
      "C(Nationality)[T.Latvia]                 -63.1667    185.097     -0.341      0.733    -425.974     299.641\n",
      "C(Nationality)[T.Lebanon]                157.5000    320.597      0.491      0.623    -470.901     785.901\n",
      "C(Nationality)[T.Liberia]               -341.3000    320.597     -1.065      0.287    -969.701     287.101\n",
      "C(Nationality)[T.Libya]                 -340.1000    202.763     -1.677      0.093    -737.536      57.336\n",
      "C(Nationality)[T.Liechtenstein]          -63.3667    219.010     -0.289      0.772    -492.646     365.913\n",
      "C(Nationality)[T.Lithuania]              -91.2500    175.598     -0.520      0.603    -435.439     252.939\n",
      "C(Nationality)[T.Luxembourg]            -113.1250    175.598     -0.644      0.519    -457.314     231.064\n",
      "C(Nationality)[T.Madagascar]              38.9667    165.556      0.235      0.814    -285.538     363.472\n",
      "C(Nationality)[T.Mali]                  -149.3047    149.896     -0.996      0.319    -443.115     144.505\n",
      "C(Nationality)[T.Malta]                  -42.5000    320.597     -0.133      0.895    -670.901     585.901\n",
      "C(Nationality)[T.Mauritania]             257.5000    202.763      1.270      0.204    -139.936     654.936\n",
      "C(Nationality)[T.Mauritius]              532.5000    320.597      1.661      0.097     -95.901    1160.901\n",
      "C(Nationality)[T.Mexico]                 -43.9817    144.157     -0.305      0.760    -326.543     238.579\n",
      "C(Nationality)[T.Moldova]               -181.3000    192.358     -0.943      0.346    -558.341     195.741\n",
      "C(Nationality)[T.Montenegro]             -46.5609    155.343     -0.300      0.764    -351.049     257.927\n",
      "C(Nationality)[T.Montserrat]             245.0000    202.763      1.208      0.227    -152.436     642.436\n",
      "C(Nationality)[T.Morocco]               -175.0682    146.710     -1.193      0.233    -462.634     112.498\n",
      "C(Nationality)[T.Mozambique]            -164.8250    202.763     -0.813      0.416    -562.261     232.611\n",
      "C(Nationality)[T.Namibia]                107.8333    219.010      0.492      0.622    -321.446     537.113\n",
      "C(Nationality)[T.Netherlands]            -55.1905    144.007     -0.383      0.702    -337.458     227.077\n",
      "C(Nationality)[T.New Caledonia]         -340.7000    320.597     -1.063      0.288    -969.101     287.701\n",
      "C(Nationality)[T.New Zealand]           -154.4568    149.751     -1.031      0.302    -447.983     139.069\n",
      "C(Nationality)[T.Nicaragua]               57.5000    248.334      0.232      0.817    -429.257     544.257\n",
      "C(Nationality)[T.Niger]                  -97.1667    219.010     -0.444      0.657    -526.446     332.113\n",
      "C(Nationality)[T.Nigeria]                -92.5273    145.726     -0.635      0.525    -378.164     193.110\n",
      "C(Nationality)[T.Northern Ireland]       -38.4975    146.916     -0.262      0.793    -326.467     249.472\n",
      "C(Nationality)[T.Norway]                 -32.3152    144.214     -0.224      0.823    -314.988     250.358\n",
      "C(Nationality)[T.Oman]                    82.5000    320.597      0.257      0.797    -545.901     710.901\n",
      "C(Nationality)[T.Palestine]              232.5000    320.597      0.725      0.468    -395.901     860.901\n",
      "C(Nationality)[T.Panama]                 114.8733    161.364      0.712      0.477    -201.415     431.162\n",
      "C(Nationality)[T.Paraguay]              -178.3847    146.710     -1.216      0.224    -465.951     109.181\n",
      "C(Nationality)[T.Peru]                  -223.1568    150.927     -1.479      0.139    -518.987      72.674\n",
      "C(Nationality)[T.Philippines]           -265.8500    248.334     -1.071      0.284    -752.607     220.907\n",
      "C(Nationality)[T.Poland]                 -56.1017    144.192     -0.389      0.697    -338.733     226.529\n",
      "C(Nationality)[T.Portugal]              -166.1792    144.263     -1.152      0.249    -448.949     116.590\n",
      "C(Nationality)[T.Puerto Rico]           -232.5000    320.597     -0.725      0.468    -860.901     395.901\n",
      "C(Nationality)[T.Qatar]                   82.5000    320.597      0.257      0.797    -545.901     710.901\n",
      "C(Nationality)[T.Republic of Ireland]    -91.6168    144.153     -0.636      0.525    -374.170     190.936\n",
      "C(Nationality)[T.Romania]               -141.0889    148.591     -0.950      0.342    -432.341     150.163\n",
      "C(Nationality)[T.Russia]                -183.4684    146.960     -1.248      0.212    -471.525     104.588\n",
      "C(Nationality)[T.Rwanda]                 132.5000    320.597      0.413      0.679    -495.901     760.901\n",
      "C(Nationality)[T.Saudi Arabia]           -53.4165    144.216     -0.370      0.711    -336.094     229.261\n",
      "C(Nationality)[T.Scotland]               -59.6535    144.375     -0.413      0.679    -342.641     223.334\n",
      "C(Nationality)[T.Senegal]               -103.3446    145.564     -0.710      0.478    -388.665     181.976\n",
      "C(Nationality)[T.Serbia]                -129.9397    145.633     -0.892      0.372    -415.395     155.516\n",
      "C(Nationality)[T.Sierra Leone]           -32.5500    185.097     -0.176      0.860    -395.358     330.258\n",
      "C(Nationality)[T.Slovakia]              -133.1389    148.591     -0.896      0.370    -424.391     158.113\n",
      "C(Nationality)[T.Slovenia]               -66.9382    148.498     -0.451      0.652    -358.008     224.131\n",
      "C(Nationality)[T.South Africa]           -96.3958    147.359     -0.654      0.513    -385.233     192.442\n",
      "C(Nationality)[T.South Sudan]            -82.5000    320.597     -0.257      0.797    -710.901     545.901\n",
      "C(Nationality)[T.Spain]                  -97.6317    143.643     -0.680      0.497    -379.185     183.922\n",
      "C(Nationality)[T.St Kitts Nevis]        -251.5667    219.010     -1.149      0.251    -680.846     177.713\n",
      "C(Nationality)[T.St Lucia]               157.5000    320.597      0.491      0.623    -470.901     785.901\n",
      "C(Nationality)[T.Sudan]                  114.1667    219.010      0.521      0.602    -315.113     543.446\n",
      "C(Nationality)[T.Suriname]               176.6000    202.763      0.871      0.384    -220.836     574.036\n",
      "C(Nationality)[T.Sweden]                 -73.4191    144.096     -0.510      0.610    -355.861     209.023\n",
      "C(Nationality)[T.Switzerland]           -109.2482    144.673     -0.755      0.450    -392.821     174.325\n",
      "C(Nationality)[T.Syria]                 -222.4111    172.316     -1.291      0.197    -560.167     115.344\n",
      "C(Nationality)[T.São Tomé & Príncipe]   -339.7000    320.597     -1.060      0.289    -968.101     288.701\n",
      "C(Nationality)[T.Tanzania]                 2.5000    219.010      0.011      0.991    -426.780     431.780\n",
      "C(Nationality)[T.Thailand]               147.5000    192.358      0.767      0.443    -229.541     524.541\n",
      "C(Nationality)[T.Togo]                  -134.7667    165.556     -0.814      0.416    -459.272     189.738\n",
      "C(Nationality)[T.Trinidad & Tobago]     -165.2250    202.763     -0.815      0.415    -562.661     232.211\n",
      "C(Nationality)[T.Tunisia]               -117.5250    152.073     -0.773      0.440    -415.602     180.552\n",
      "C(Nationality)[T.Turkey]                 -46.9677    144.319     -0.325      0.745    -329.846     235.911\n",
      "C(Nationality)[T.Uganda]                  -5.6167    185.097     -0.030      0.976    -368.424     357.191\n",
      "C(Nationality)[T.Ukraine]               -190.0630    147.251     -1.291      0.197    -478.689      98.563\n",
      "C(Nationality)[T.United Arab Emirates]  -332.0000    320.597     -1.036      0.300    -960.401     296.401\n",
      "C(Nationality)[T.United States]          -11.4907    144.185     -0.080      0.936    -294.108     271.127\n",
      "C(Nationality)[T.Uruguay]               -103.3597    145.287     -0.711      0.477    -388.136     181.417\n",
      "C(Nationality)[T.Uzbekistan]            -239.5000    248.334     -0.964      0.335    -726.257     247.257\n",
      "C(Nationality)[T.Venezuela]             -115.1149    147.593     -0.780      0.435    -404.412     174.182\n",
      "C(Nationality)[T.Wales]                  -58.3527    145.581     -0.401      0.689    -343.706     227.001\n",
      "C(Nationality)[T.Zambia]                   9.9444    172.316      0.058      0.954    -327.811     347.700\n",
      "C(Nationality)[T.Zimbabwe]               -36.1769    163.956     -0.221      0.825    -357.546     285.193\n",
      "==============================================================================\n",
      "Omnibus:                     1932.251   Durbin-Watson:                   1.034\n",
      "Prob(Omnibus):                  0.000   Jarque-Bera (JB):             2378.177\n",
      "Skew:                           0.859   Prob(JB):                         0.00\n",
      "Kurtosis:                       2.575   Cond. No.                         881.\n",
      "==============================================================================\n",
      "\n",
      "Warnings:\n",
      "[1] Standard Errors assume that the covariance matrix of the errors is correctly specified.\n"
     ]
    }
   ],
   "source": [
    "# Your code here:\n",
    "model = ols('ValueNumeric ~ C(Nationality)', data=fifa).fit()\n",
    "print(model.summary())"
   ]
  },
  {
   "cell_type": "code",
   "execution_count": 25,
   "metadata": {},
   "outputs": [
    {
     "data": {
      "text/html": [
       "<div>\n",
       "<style scoped>\n",
       "    .dataframe tbody tr th:only-of-type {\n",
       "        vertical-align: middle;\n",
       "    }\n",
       "\n",
       "    .dataframe tbody tr th {\n",
       "        vertical-align: top;\n",
       "    }\n",
       "\n",
       "    .dataframe thead th {\n",
       "        text-align: right;\n",
       "    }\n",
       "</style>\n",
       "<table border=\"1\" class=\"dataframe\">\n",
       "  <thead>\n",
       "    <tr style=\"text-align: right;\">\n",
       "      <th></th>\n",
       "      <th>sum_sq</th>\n",
       "      <th>df</th>\n",
       "      <th>F</th>\n",
       "      <th>PR(&gt;F)</th>\n",
       "    </tr>\n",
       "  </thead>\n",
       "  <tbody>\n",
       "    <tr>\n",
       "      <th>C(Nationality)</th>\n",
       "      <td>4.292914e+07</td>\n",
       "      <td>163.0</td>\n",
       "      <td>3.202987</td>\n",
       "      <td>1.976253e-38</td>\n",
       "    </tr>\n",
       "    <tr>\n",
       "      <th>Residual</th>\n",
       "      <td>1.483605e+09</td>\n",
       "      <td>18043.0</td>\n",
       "      <td>NaN</td>\n",
       "      <td>NaN</td>\n",
       "    </tr>\n",
       "  </tbody>\n",
       "</table>\n",
       "</div>"
      ],
      "text/plain": [
       "                      sum_sq       df         F        PR(>F)\n",
       "C(Nationality)  4.292914e+07    163.0  3.202987  1.976253e-38\n",
       "Residual        1.483605e+09  18043.0       NaN           NaN"
      ]
     },
     "execution_count": 25,
     "metadata": {},
     "output_type": "execute_result"
    }
   ],
   "source": [
    "anova = sm.stats.anova_lm(model, typ=2)\n",
    "anova"
   ]
  },
  {
   "cell_type": "markdown",
   "metadata": {},
   "source": [
    "What is your conclusion from this ANOVA?"
   ]
  },
  {
   "cell_type": "code",
   "execution_count": 26,
   "metadata": {},
   "outputs": [],
   "source": [
    "# The p-value (1.97e-38) is much less than 0.05, thus Ho is rejected, meaning that there is no correlation between \n",
    "# Nationality and the value of each player."
   ]
  },
  {
   "cell_type": "markdown",
   "metadata": {},
   "source": [
    "# Challenge 2 - Linear Regression\n",
    "\n",
    "Our goal with using linear regression is to create a mathematical model that will enable us to predict the outcome of one variable using one or more additional independent variables.\n",
    "\n",
    "We'll start by ensuring there are no missing values. Examine all variables for all missing values. If there are missing values in a row, remove the entire row."
   ]
  },
  {
   "cell_type": "code",
   "execution_count": 39,
   "metadata": {},
   "outputs": [],
   "source": [
    "# Your code here:\n",
    "fifa = fifa[fifa.isna().sum(axis=1) == 0]"
   ]
  },
  {
   "cell_type": "markdown",
   "metadata": {},
   "source": [
    "Using the FIFA dataset, in the cell below, create a linear model predicting value using stamina and sprint speed. create the model using `statsmodels`. Print the model summary.\n",
    "\n",
    "Hint: remember to add an intercept to the model using the `add_constant` function."
   ]
  },
  {
   "cell_type": "code",
   "execution_count": 56,
   "metadata": {},
   "outputs": [
    {
     "name": "stdout",
     "output_type": "stream",
     "text": [
      "                            OLS Regression Results                            \n",
      "==============================================================================\n",
      "Dep. Variable:           ValueNumeric   R-squared:                       0.000\n",
      "Model:                            OLS   Adj. R-squared:                  0.000\n",
      "Method:                 Least Squares   F-statistic:                     4.454\n",
      "Date:                Wed, 31 Jul 2019   Prob (F-statistic):             0.0116\n",
      "Time:                        16:58:38   Log-Likelihood:            -1.2702e+05\n",
      "No. Observations:               17918   AIC:                         2.540e+05\n",
      "Df Residuals:                   17915   BIC:                         2.541e+05\n",
      "Df Model:                           2                                         \n",
      "Covariance Type:            nonrobust                                         \n",
      "===============================================================================\n",
      "                  coef    std err          t      P>|t|      [0.025      0.975]\n",
      "-------------------------------------------------------------------------------\n",
      "const         280.4297     10.390     26.991      0.000     260.065     300.795\n",
      "SprintSpeed     0.3186      0.188      1.693      0.091      -0.050       0.688\n",
      "Stamina        -0.5173      0.174     -2.978      0.003      -0.858      -0.177\n",
      "==============================================================================\n",
      "Omnibus:                     2098.571   Durbin-Watson:                   0.967\n",
      "Prob(Omnibus):                  0.000   Jarque-Bera (JB):             2259.025\n",
      "Skew:                           0.819   Prob(JB):                         0.00\n",
      "Kurtosis:                       2.413   Cond. No.                         444.\n",
      "==============================================================================\n",
      "\n",
      "Warnings:\n",
      "[1] Standard Errors assume that the covariance matrix of the errors is correctly specified.\n"
     ]
    }
   ],
   "source": [
    "# Your code here:\n",
    "X = sm.add_constant(fifa[['SprintSpeed', 'Stamina']])\n",
    "Y = fifa.ValueNumeric\n",
    "\n",
    "model = sm.OLS(Y, X).fit()\n",
    "predictions = model.predict(X) \n",
    "\n",
    "print(model.summary())"
   ]
  },
  {
   "cell_type": "markdown",
   "metadata": {},
   "source": [
    "Report your findings from the model summary. In particular, report about the model as a whole using the F-test and how much variation is predicted by the model using the r squared."
   ]
  },
  {
   "cell_type": "code",
   "execution_count": 83,
   "metadata": {},
   "outputs": [],
   "source": [
    "# Your conclusions here:\n",
    "# Given that p-value (0.0116) is less than 0.05, Ho is rejected. "
   ]
  },
  {
   "cell_type": "markdown",
   "metadata": {},
   "source": [
    "Next, create a second regression model predicting value using potential. Create the model using `statsmodels` and print the model summary. Remember to add a constant term."
   ]
  },
  {
   "cell_type": "code",
   "execution_count": 52,
   "metadata": {},
   "outputs": [
    {
     "name": "stdout",
     "output_type": "stream",
     "text": [
      "                            OLS Regression Results                            \n",
      "==============================================================================\n",
      "Dep. Variable:           ValueNumeric   R-squared:                       0.056\n",
      "Model:                            OLS   Adj. R-squared:                  0.056\n",
      "Method:                 Least Squares   F-statistic:                     1054.\n",
      "Date:                Wed, 31 Jul 2019   Prob (F-statistic):          9.15e-225\n",
      "Time:                        16:56:00   Log-Likelihood:            -1.2651e+05\n",
      "No. Observations:               17918   AIC:                         2.530e+05\n",
      "Df Residuals:                   17916   BIC:                         2.530e+05\n",
      "Df Model:                           1                                         \n",
      "Covariance Type:            nonrobust                                         \n",
      "==============================================================================\n",
      "                 coef    std err          t      P>|t|      [0.025      0.975]\n",
      "------------------------------------------------------------------------------\n",
      "const       1062.4312     24.547     43.281      0.000    1014.316    1110.546\n",
      "Potential    -11.1326      0.343    -32.469      0.000     -11.805     -10.461\n",
      "==============================================================================\n",
      "Omnibus:                     2018.008   Durbin-Watson:                   1.099\n",
      "Prob(Omnibus):                  0.000   Jarque-Bera (JB):             2748.489\n",
      "Skew:                           0.953   Prob(JB):                         0.00\n",
      "Kurtosis:                       2.780   Cond. No.                         834.\n",
      "==============================================================================\n",
      "\n",
      "Warnings:\n",
      "[1] Standard Errors assume that the covariance matrix of the errors is correctly specified.\n"
     ]
    }
   ],
   "source": [
    "# Your code here:\n",
    "X = sm.add_constant(fifa.Potential)\n",
    "\n",
    "model = sm.OLS(Y, X).fit()\n",
    "predictions = model.predict(X)\n",
    "\n",
    "print(model.summary())"
   ]
  },
  {
   "cell_type": "markdown",
   "metadata": {},
   "source": [
    "Report your findings from the model summary. In particular, report about the model as a whole using the F-test and how much variation is predicted by the model using the r squared."
   ]
  },
  {
   "cell_type": "code",
   "execution_count": 13,
   "metadata": {},
   "outputs": [],
   "source": [
    "# Your conclusions here:\n",
    "# Given that p-value (9.15e-15) is much smaller than 0.05, Ho is rejected. "
   ]
  },
  {
   "cell_type": "markdown",
   "metadata": {},
   "source": [
    "Plot a scatter plot of value vs. potential. Do you see a linear relationship?"
   ]
  },
  {
   "cell_type": "code",
   "execution_count": 88,
   "metadata": {},
   "outputs": [
    {
     "data": {
      "image/png": "[encoded data removed]",
      "text/plain": [
       "<Figure size 1584x864 with 1 Axes>"
      ]
     },
     "metadata": {
      "needs_background": "light"
     },
     "output_type": "display_data"
    }
   ],
   "source": [
    "# Your code here:\n",
    "import matplotlib.pyplot as plt\n",
    "\n",
    "fig, ax = plt.subplots(1, 1, figsize=(22,12))\n",
    "\n",
    "ax.scatter(fifa.ValueNumeric.sort_values(), fifa.Potential, alpha=0.25)\n",
    "ax.set_ylabel('Potential')\n",
    "ax.set_xlabel('ValueNumeric')\n",
    "ax.xaxis.set_major_locator(plt.MaxNLocator(25))"
   ]
  },
  {
   "cell_type": "code",
   "execution_count": null,
   "metadata": {},
   "outputs": [],
   "source": [
    "# Given the plot above, it can be seen that Value and Potential could have a linear relationship."
   ]
  }
 ],
 "metadata": {
  "kernelspec": {
   "display_name": "Python 3",
   "language": "python",
   "name": "python3"
  },
  "language_info": {
   "codemirror_mode": {
    "name": "ipython",
    "version": 3
   },
   "file_extension": ".py",
   "mimetype": "text/x-python",
   "name": "python",
   "nbconvert_exporter": "python",
   "pygments_lexer": "ipython3",
   "version": "3.7.3"
  }
 },
 "nbformat": 4,
 "nbformat_minor": 2
}
